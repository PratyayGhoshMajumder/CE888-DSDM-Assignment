{
 "cells": [
  {
   "cell_type": "code",
   "execution_count": 2,
   "id": "18c79d58",
   "metadata": {
    "id": "18c79d58"
   },
   "outputs": [],
   "source": [
    "import numpy as np\n",
    "import pandas as pd\n",
    "from sklearn.tree import DecisionTreeClassifier # Importing Decision Tree Classifier\n",
    "from sklearn.model_selection import train_test_split # Import train_test_split function\n",
    "from sklearn.model_selection import cross_val_score\n",
    "from sklearn import metrics #Import scikit-learn metrics module for accuracy calculation\n",
    "from sklearn.model_selection import KFold\n",
    "from sklearn.model_selection import GridSearchCV\n",
    "from sklearn.metrics import accuracy_score, confusion_matrix, classification_report\n",
    "from matplotlib import pyplot as plt\n",
    "import seaborn as sns\n",
    "from sklearn.metrics import confusion_matrix\n",
    "from sklearn import tree\n",
    "from matplotlib import pyplot as plt\n",
    "from sklearn.linear_model import LogisticRegression\n",
    "from sklearn import svm\n",
    "from sklearn.ensemble import RandomForestClassifier\n",
    "%matplotlib inline\n",
    "from sklearn.metrics import classification_report,confusion_matrix, accuracy_score, f1_score, recall_score, precision_score\n",
    "import warnings\n",
    "warnings.filterwarnings(\"ignore\")"
   ]
  },
  {
   "cell_type": "code",
   "execution_count": 3,
   "id": "d8427cb8",
   "metadata": {
    "colab": {
     "base_uri": "https://localhost:8080/",
     "height": 540
    },
    "id": "d8427cb8",
    "outputId": "34da3572-b663-46d2-d16b-47d2fb0273c0"
   },
   "outputs": [
    {
     "data": {
      "text/html": [
       "\n",
       "  <div id=\"df-8bd933ef-9e2d-4dbb-850f-5f68ac3fbe30\">\n",
       "    <div class=\"colab-df-container\">\n",
       "      <div>\n",
       "<style scoped>\n",
       "    .dataframe tbody tr th:only-of-type {\n",
       "        vertical-align: middle;\n",
       "    }\n",
       "\n",
       "    .dataframe tbody tr th {\n",
       "        vertical-align: top;\n",
       "    }\n",
       "\n",
       "    .dataframe thead th {\n",
       "        text-align: right;\n",
       "    }\n",
       "</style>\n",
       "<table border=\"1\" class=\"dataframe\">\n",
       "  <thead>\n",
       "    <tr style=\"text-align: right;\">\n",
       "      <th></th>\n",
       "      <th>Marital status</th>\n",
       "      <th>Application mode</th>\n",
       "      <th>Application order</th>\n",
       "      <th>Course</th>\n",
       "      <th>Daytime/evening attendance\\t</th>\n",
       "      <th>Previous qualification</th>\n",
       "      <th>Previous qualification (grade)</th>\n",
       "      <th>Nacionality</th>\n",
       "      <th>Mother's qualification</th>\n",
       "      <th>Father's qualification</th>\n",
       "      <th>...</th>\n",
       "      <th>Curricular units 2nd sem (credited)</th>\n",
       "      <th>Curricular units 2nd sem (enrolled)</th>\n",
       "      <th>Curricular units 2nd sem (evaluations)</th>\n",
       "      <th>Curricular units 2nd sem (approved)</th>\n",
       "      <th>Curricular units 2nd sem (grade)</th>\n",
       "      <th>Curricular units 2nd sem (without evaluations)</th>\n",
       "      <th>Unemployment rate</th>\n",
       "      <th>Inflation rate</th>\n",
       "      <th>GDP</th>\n",
       "      <th>Target</th>\n",
       "    </tr>\n",
       "  </thead>\n",
       "  <tbody>\n",
       "    <tr>\n",
       "      <th>0</th>\n",
       "      <td>1</td>\n",
       "      <td>17</td>\n",
       "      <td>5</td>\n",
       "      <td>171</td>\n",
       "      <td>1</td>\n",
       "      <td>1</td>\n",
       "      <td>122.0</td>\n",
       "      <td>1</td>\n",
       "      <td>19</td>\n",
       "      <td>12</td>\n",
       "      <td>...</td>\n",
       "      <td>0</td>\n",
       "      <td>0</td>\n",
       "      <td>0</td>\n",
       "      <td>0</td>\n",
       "      <td>0.000000</td>\n",
       "      <td>0</td>\n",
       "      <td>10.8</td>\n",
       "      <td>1.4</td>\n",
       "      <td>1.74</td>\n",
       "      <td>Dropout</td>\n",
       "    </tr>\n",
       "    <tr>\n",
       "      <th>1</th>\n",
       "      <td>1</td>\n",
       "      <td>15</td>\n",
       "      <td>1</td>\n",
       "      <td>9254</td>\n",
       "      <td>1</td>\n",
       "      <td>1</td>\n",
       "      <td>160.0</td>\n",
       "      <td>1</td>\n",
       "      <td>1</td>\n",
       "      <td>3</td>\n",
       "      <td>...</td>\n",
       "      <td>0</td>\n",
       "      <td>6</td>\n",
       "      <td>6</td>\n",
       "      <td>6</td>\n",
       "      <td>13.666667</td>\n",
       "      <td>0</td>\n",
       "      <td>13.9</td>\n",
       "      <td>-0.3</td>\n",
       "      <td>0.79</td>\n",
       "      <td>Graduate</td>\n",
       "    </tr>\n",
       "    <tr>\n",
       "      <th>2</th>\n",
       "      <td>1</td>\n",
       "      <td>1</td>\n",
       "      <td>5</td>\n",
       "      <td>9070</td>\n",
       "      <td>1</td>\n",
       "      <td>1</td>\n",
       "      <td>122.0</td>\n",
       "      <td>1</td>\n",
       "      <td>37</td>\n",
       "      <td>37</td>\n",
       "      <td>...</td>\n",
       "      <td>0</td>\n",
       "      <td>6</td>\n",
       "      <td>0</td>\n",
       "      <td>0</td>\n",
       "      <td>0.000000</td>\n",
       "      <td>0</td>\n",
       "      <td>10.8</td>\n",
       "      <td>1.4</td>\n",
       "      <td>1.74</td>\n",
       "      <td>Dropout</td>\n",
       "    </tr>\n",
       "    <tr>\n",
       "      <th>3</th>\n",
       "      <td>1</td>\n",
       "      <td>17</td>\n",
       "      <td>2</td>\n",
       "      <td>9773</td>\n",
       "      <td>1</td>\n",
       "      <td>1</td>\n",
       "      <td>122.0</td>\n",
       "      <td>1</td>\n",
       "      <td>38</td>\n",
       "      <td>37</td>\n",
       "      <td>...</td>\n",
       "      <td>0</td>\n",
       "      <td>6</td>\n",
       "      <td>10</td>\n",
       "      <td>5</td>\n",
       "      <td>12.400000</td>\n",
       "      <td>0</td>\n",
       "      <td>9.4</td>\n",
       "      <td>-0.8</td>\n",
       "      <td>-3.12</td>\n",
       "      <td>Graduate</td>\n",
       "    </tr>\n",
       "    <tr>\n",
       "      <th>4</th>\n",
       "      <td>2</td>\n",
       "      <td>39</td>\n",
       "      <td>1</td>\n",
       "      <td>8014</td>\n",
       "      <td>0</td>\n",
       "      <td>1</td>\n",
       "      <td>100.0</td>\n",
       "      <td>1</td>\n",
       "      <td>37</td>\n",
       "      <td>38</td>\n",
       "      <td>...</td>\n",
       "      <td>0</td>\n",
       "      <td>6</td>\n",
       "      <td>6</td>\n",
       "      <td>6</td>\n",
       "      <td>13.000000</td>\n",
       "      <td>0</td>\n",
       "      <td>13.9</td>\n",
       "      <td>-0.3</td>\n",
       "      <td>0.79</td>\n",
       "      <td>Graduate</td>\n",
       "    </tr>\n",
       "    <tr>\n",
       "      <th>...</th>\n",
       "      <td>...</td>\n",
       "      <td>...</td>\n",
       "      <td>...</td>\n",
       "      <td>...</td>\n",
       "      <td>...</td>\n",
       "      <td>...</td>\n",
       "      <td>...</td>\n",
       "      <td>...</td>\n",
       "      <td>...</td>\n",
       "      <td>...</td>\n",
       "      <td>...</td>\n",
       "      <td>...</td>\n",
       "      <td>...</td>\n",
       "      <td>...</td>\n",
       "      <td>...</td>\n",
       "      <td>...</td>\n",
       "      <td>...</td>\n",
       "      <td>...</td>\n",
       "      <td>...</td>\n",
       "      <td>...</td>\n",
       "      <td>...</td>\n",
       "    </tr>\n",
       "    <tr>\n",
       "      <th>4419</th>\n",
       "      <td>1</td>\n",
       "      <td>1</td>\n",
       "      <td>6</td>\n",
       "      <td>9773</td>\n",
       "      <td>1</td>\n",
       "      <td>1</td>\n",
       "      <td>125.0</td>\n",
       "      <td>1</td>\n",
       "      <td>1</td>\n",
       "      <td>1</td>\n",
       "      <td>...</td>\n",
       "      <td>0</td>\n",
       "      <td>6</td>\n",
       "      <td>8</td>\n",
       "      <td>5</td>\n",
       "      <td>12.666667</td>\n",
       "      <td>0</td>\n",
       "      <td>15.5</td>\n",
       "      <td>2.8</td>\n",
       "      <td>-4.06</td>\n",
       "      <td>Graduate</td>\n",
       "    </tr>\n",
       "    <tr>\n",
       "      <th>4420</th>\n",
       "      <td>1</td>\n",
       "      <td>1</td>\n",
       "      <td>2</td>\n",
       "      <td>9773</td>\n",
       "      <td>1</td>\n",
       "      <td>1</td>\n",
       "      <td>120.0</td>\n",
       "      <td>105</td>\n",
       "      <td>1</td>\n",
       "      <td>1</td>\n",
       "      <td>...</td>\n",
       "      <td>0</td>\n",
       "      <td>6</td>\n",
       "      <td>6</td>\n",
       "      <td>2</td>\n",
       "      <td>11.000000</td>\n",
       "      <td>0</td>\n",
       "      <td>11.1</td>\n",
       "      <td>0.6</td>\n",
       "      <td>2.02</td>\n",
       "      <td>Dropout</td>\n",
       "    </tr>\n",
       "    <tr>\n",
       "      <th>4421</th>\n",
       "      <td>1</td>\n",
       "      <td>1</td>\n",
       "      <td>1</td>\n",
       "      <td>9500</td>\n",
       "      <td>1</td>\n",
       "      <td>1</td>\n",
       "      <td>154.0</td>\n",
       "      <td>1</td>\n",
       "      <td>37</td>\n",
       "      <td>37</td>\n",
       "      <td>...</td>\n",
       "      <td>0</td>\n",
       "      <td>8</td>\n",
       "      <td>9</td>\n",
       "      <td>1</td>\n",
       "      <td>13.500000</td>\n",
       "      <td>0</td>\n",
       "      <td>13.9</td>\n",
       "      <td>-0.3</td>\n",
       "      <td>0.79</td>\n",
       "      <td>Dropout</td>\n",
       "    </tr>\n",
       "    <tr>\n",
       "      <th>4422</th>\n",
       "      <td>1</td>\n",
       "      <td>1</td>\n",
       "      <td>1</td>\n",
       "      <td>9147</td>\n",
       "      <td>1</td>\n",
       "      <td>1</td>\n",
       "      <td>180.0</td>\n",
       "      <td>1</td>\n",
       "      <td>37</td>\n",
       "      <td>37</td>\n",
       "      <td>...</td>\n",
       "      <td>0</td>\n",
       "      <td>5</td>\n",
       "      <td>6</td>\n",
       "      <td>5</td>\n",
       "      <td>12.000000</td>\n",
       "      <td>0</td>\n",
       "      <td>9.4</td>\n",
       "      <td>-0.8</td>\n",
       "      <td>-3.12</td>\n",
       "      <td>Graduate</td>\n",
       "    </tr>\n",
       "    <tr>\n",
       "      <th>4423</th>\n",
       "      <td>1</td>\n",
       "      <td>10</td>\n",
       "      <td>1</td>\n",
       "      <td>9773</td>\n",
       "      <td>1</td>\n",
       "      <td>1</td>\n",
       "      <td>152.0</td>\n",
       "      <td>22</td>\n",
       "      <td>38</td>\n",
       "      <td>37</td>\n",
       "      <td>...</td>\n",
       "      <td>0</td>\n",
       "      <td>6</td>\n",
       "      <td>6</td>\n",
       "      <td>6</td>\n",
       "      <td>13.000000</td>\n",
       "      <td>0</td>\n",
       "      <td>12.7</td>\n",
       "      <td>3.7</td>\n",
       "      <td>-1.70</td>\n",
       "      <td>Graduate</td>\n",
       "    </tr>\n",
       "  </tbody>\n",
       "</table>\n",
       "<p>4424 rows × 37 columns</p>\n",
       "</div>\n",
       "      <button class=\"colab-df-convert\" onclick=\"convertToInteractive('df-8bd933ef-9e2d-4dbb-850f-5f68ac3fbe30')\"\n",
       "              title=\"Convert this dataframe to an interactive table.\"\n",
       "              style=\"display:none;\">\n",
       "        \n",
       "  <svg xmlns=\"http://www.w3.org/2000/svg\" height=\"24px\"viewBox=\"0 0 24 24\"\n",
       "       width=\"24px\">\n",
       "    <path d=\"M0 0h24v24H0V0z\" fill=\"none\"/>\n",
       "    <path d=\"M18.56 5.44l.94 2.06.94-2.06 2.06-.94-2.06-.94-.94-2.06-.94 2.06-2.06.94zm-11 1L8.5 8.5l.94-2.06 2.06-.94-2.06-.94L8.5 2.5l-.94 2.06-2.06.94zm10 10l.94 2.06.94-2.06 2.06-.94-2.06-.94-.94-2.06-.94 2.06-2.06.94z\"/><path d=\"M17.41 7.96l-1.37-1.37c-.4-.4-.92-.59-1.43-.59-.52 0-1.04.2-1.43.59L10.3 9.45l-7.72 7.72c-.78.78-.78 2.05 0 2.83L4 21.41c.39.39.9.59 1.41.59.51 0 1.02-.2 1.41-.59l7.78-7.78 2.81-2.81c.8-.78.8-2.07 0-2.86zM5.41 20L4 18.59l7.72-7.72 1.47 1.35L5.41 20z\"/>\n",
       "  </svg>\n",
       "      </button>\n",
       "      \n",
       "  <style>\n",
       "    .colab-df-container {\n",
       "      display:flex;\n",
       "      flex-wrap:wrap;\n",
       "      gap: 12px;\n",
       "    }\n",
       "\n",
       "    .colab-df-convert {\n",
       "      background-color: #E8F0FE;\n",
       "      border: none;\n",
       "      border-radius: 50%;\n",
       "      cursor: pointer;\n",
       "      display: none;\n",
       "      fill: #1967D2;\n",
       "      height: 32px;\n",
       "      padding: 0 0 0 0;\n",
       "      width: 32px;\n",
       "    }\n",
       "\n",
       "    .colab-df-convert:hover {\n",
       "      background-color: #E2EBFA;\n",
       "      box-shadow: 0px 1px 2px rgba(60, 64, 67, 0.3), 0px 1px 3px 1px rgba(60, 64, 67, 0.15);\n",
       "      fill: #174EA6;\n",
       "    }\n",
       "\n",
       "    [theme=dark] .colab-df-convert {\n",
       "      background-color: #3B4455;\n",
       "      fill: #D2E3FC;\n",
       "    }\n",
       "\n",
       "    [theme=dark] .colab-df-convert:hover {\n",
       "      background-color: #434B5C;\n",
       "      box-shadow: 0px 1px 3px 1px rgba(0, 0, 0, 0.15);\n",
       "      filter: drop-shadow(0px 1px 2px rgba(0, 0, 0, 0.3));\n",
       "      fill: #FFFFFF;\n",
       "    }\n",
       "  </style>\n",
       "\n",
       "      <script>\n",
       "        const buttonEl =\n",
       "          document.querySelector('#df-8bd933ef-9e2d-4dbb-850f-5f68ac3fbe30 button.colab-df-convert');\n",
       "        buttonEl.style.display =\n",
       "          google.colab.kernel.accessAllowed ? 'block' : 'none';\n",
       "\n",
       "        async function convertToInteractive(key) {\n",
       "          const element = document.querySelector('#df-8bd933ef-9e2d-4dbb-850f-5f68ac3fbe30');\n",
       "          const dataTable =\n",
       "            await google.colab.kernel.invokeFunction('convertToInteractive',\n",
       "                                                     [key], {});\n",
       "          if (!dataTable) return;\n",
       "\n",
       "          const docLinkHtml = 'Like what you see? Visit the ' +\n",
       "            '<a target=\"_blank\" href=https://colab.research.google.com/notebooks/data_table.ipynb>data table notebook</a>'\n",
       "            + ' to learn more about interactive tables.';\n",
       "          element.innerHTML = '';\n",
       "          dataTable['output_type'] = 'display_data';\n",
       "          await google.colab.output.renderOutput(dataTable, element);\n",
       "          const docLink = document.createElement('div');\n",
       "          docLink.innerHTML = docLinkHtml;\n",
       "          element.appendChild(docLink);\n",
       "        }\n",
       "      </script>\n",
       "    </div>\n",
       "  </div>\n",
       "  "
      ],
      "text/plain": [
       "      Marital status  Application mode  Application order  Course  \\\n",
       "0                  1                17                  5     171   \n",
       "1                  1                15                  1    9254   \n",
       "2                  1                 1                  5    9070   \n",
       "3                  1                17                  2    9773   \n",
       "4                  2                39                  1    8014   \n",
       "...              ...               ...                ...     ...   \n",
       "4419               1                 1                  6    9773   \n",
       "4420               1                 1                  2    9773   \n",
       "4421               1                 1                  1    9500   \n",
       "4422               1                 1                  1    9147   \n",
       "4423               1                10                  1    9773   \n",
       "\n",
       "      Daytime/evening attendance\\t  Previous qualification  \\\n",
       "0                                1                       1   \n",
       "1                                1                       1   \n",
       "2                                1                       1   \n",
       "3                                1                       1   \n",
       "4                                0                       1   \n",
       "...                            ...                     ...   \n",
       "4419                             1                       1   \n",
       "4420                             1                       1   \n",
       "4421                             1                       1   \n",
       "4422                             1                       1   \n",
       "4423                             1                       1   \n",
       "\n",
       "      Previous qualification (grade)  Nacionality  Mother's qualification  \\\n",
       "0                              122.0            1                      19   \n",
       "1                              160.0            1                       1   \n",
       "2                              122.0            1                      37   \n",
       "3                              122.0            1                      38   \n",
       "4                              100.0            1                      37   \n",
       "...                              ...          ...                     ...   \n",
       "4419                           125.0            1                       1   \n",
       "4420                           120.0          105                       1   \n",
       "4421                           154.0            1                      37   \n",
       "4422                           180.0            1                      37   \n",
       "4423                           152.0           22                      38   \n",
       "\n",
       "      Father's qualification  ...  Curricular units 2nd sem (credited)  \\\n",
       "0                         12  ...                                    0   \n",
       "1                          3  ...                                    0   \n",
       "2                         37  ...                                    0   \n",
       "3                         37  ...                                    0   \n",
       "4                         38  ...                                    0   \n",
       "...                      ...  ...                                  ...   \n",
       "4419                       1  ...                                    0   \n",
       "4420                       1  ...                                    0   \n",
       "4421                      37  ...                                    0   \n",
       "4422                      37  ...                                    0   \n",
       "4423                      37  ...                                    0   \n",
       "\n",
       "      Curricular units 2nd sem (enrolled)  \\\n",
       "0                                       0   \n",
       "1                                       6   \n",
       "2                                       6   \n",
       "3                                       6   \n",
       "4                                       6   \n",
       "...                                   ...   \n",
       "4419                                    6   \n",
       "4420                                    6   \n",
       "4421                                    8   \n",
       "4422                                    5   \n",
       "4423                                    6   \n",
       "\n",
       "      Curricular units 2nd sem (evaluations)  \\\n",
       "0                                          0   \n",
       "1                                          6   \n",
       "2                                          0   \n",
       "3                                         10   \n",
       "4                                          6   \n",
       "...                                      ...   \n",
       "4419                                       8   \n",
       "4420                                       6   \n",
       "4421                                       9   \n",
       "4422                                       6   \n",
       "4423                                       6   \n",
       "\n",
       "      Curricular units 2nd sem (approved)  Curricular units 2nd sem (grade)  \\\n",
       "0                                       0                          0.000000   \n",
       "1                                       6                         13.666667   \n",
       "2                                       0                          0.000000   \n",
       "3                                       5                         12.400000   \n",
       "4                                       6                         13.000000   \n",
       "...                                   ...                               ...   \n",
       "4419                                    5                         12.666667   \n",
       "4420                                    2                         11.000000   \n",
       "4421                                    1                         13.500000   \n",
       "4422                                    5                         12.000000   \n",
       "4423                                    6                         13.000000   \n",
       "\n",
       "      Curricular units 2nd sem (without evaluations)  Unemployment rate  \\\n",
       "0                                                  0               10.8   \n",
       "1                                                  0               13.9   \n",
       "2                                                  0               10.8   \n",
       "3                                                  0                9.4   \n",
       "4                                                  0               13.9   \n",
       "...                                              ...                ...   \n",
       "4419                                               0               15.5   \n",
       "4420                                               0               11.1   \n",
       "4421                                               0               13.9   \n",
       "4422                                               0                9.4   \n",
       "4423                                               0               12.7   \n",
       "\n",
       "      Inflation rate   GDP    Target  \n",
       "0                1.4  1.74   Dropout  \n",
       "1               -0.3  0.79  Graduate  \n",
       "2                1.4  1.74   Dropout  \n",
       "3               -0.8 -3.12  Graduate  \n",
       "4               -0.3  0.79  Graduate  \n",
       "...              ...   ...       ...  \n",
       "4419             2.8 -4.06  Graduate  \n",
       "4420             0.6  2.02   Dropout  \n",
       "4421            -0.3  0.79   Dropout  \n",
       "4422            -0.8 -3.12  Graduate  \n",
       "4423             3.7 -1.70  Graduate  \n",
       "\n",
       "[4424 rows x 37 columns]"
      ]
     },
     "execution_count": 3,
     "metadata": {},
     "output_type": "execute_result"
    }
   ],
   "source": [
    "data = pd.read_csv(\"Academic.csv\")\n",
    "data"
   ]
  },
  {
   "cell_type": "code",
   "execution_count": 3,
   "id": "7579d95a",
   "metadata": {
    "colab": {
     "base_uri": "https://localhost:8080/"
    },
    "id": "7579d95a",
    "outputId": "a54e4648-752f-4a40-85cf-4e551a6f18d7"
   },
   "outputs": [
    {
     "name": "stdout",
     "output_type": "stream",
     "text": [
      "<class 'pandas.core.frame.DataFrame'>\n",
      "RangeIndex: 4424 entries, 0 to 4423\n",
      "Data columns (total 37 columns):\n",
      " #   Column                                          Non-Null Count  Dtype  \n",
      "---  ------                                          --------------  -----  \n",
      " 0   Marital status                                  4424 non-null   int64  \n",
      " 1   Application mode                                4424 non-null   int64  \n",
      " 2   Application order                               4424 non-null   int64  \n",
      " 3   Course                                          4424 non-null   int64  \n",
      " 4   Daytime/evening attendance\t                     4424 non-null   int64  \n",
      " 5   Previous qualification                          4424 non-null   int64  \n",
      " 6   Previous qualification (grade)                  4424 non-null   float64\n",
      " 7   Nacionality                                     4424 non-null   int64  \n",
      " 8   Mother's qualification                          4424 non-null   int64  \n",
      " 9   Father's qualification                          4424 non-null   int64  \n",
      " 10  Mother's occupation                             4424 non-null   int64  \n",
      " 11  Father's occupation                             4424 non-null   int64  \n",
      " 12  Admission grade                                 4424 non-null   float64\n",
      " 13  Displaced                                       4424 non-null   int64  \n",
      " 14  Educational special needs                       4424 non-null   int64  \n",
      " 15  Debtor                                          4424 non-null   int64  \n",
      " 16  Tuition fees up to date                         4424 non-null   int64  \n",
      " 17  Gender                                          4424 non-null   int64  \n",
      " 18  Scholarship holder                              4424 non-null   int64  \n",
      " 19  Age at enrollment                               4424 non-null   int64  \n",
      " 20  International                                   4424 non-null   int64  \n",
      " 21  Curricular units 1st sem (credited)             4424 non-null   int64  \n",
      " 22  Curricular units 1st sem (enrolled)             4424 non-null   int64  \n",
      " 23  Curricular units 1st sem (evaluations)          4424 non-null   int64  \n",
      " 24  Curricular units 1st sem (approved)             4424 non-null   int64  \n",
      " 25  Curricular units 1st sem (grade)                4424 non-null   float64\n",
      " 26  Curricular units 1st sem (without evaluations)  4424 non-null   int64  \n",
      " 27  Curricular units 2nd sem (credited)             4424 non-null   int64  \n",
      " 28  Curricular units 2nd sem (enrolled)             4424 non-null   int64  \n",
      " 29  Curricular units 2nd sem (evaluations)          4424 non-null   int64  \n",
      " 30  Curricular units 2nd sem (approved)             4424 non-null   int64  \n",
      " 31  Curricular units 2nd sem (grade)                4424 non-null   float64\n",
      " 32  Curricular units 2nd sem (without evaluations)  4424 non-null   int64  \n",
      " 33  Unemployment rate                               4424 non-null   float64\n",
      " 34  Inflation rate                                  4424 non-null   float64\n",
      " 35  GDP                                             4424 non-null   float64\n",
      " 36  Target                                          4424 non-null   object \n",
      "dtypes: float64(7), int64(29), object(1)\n",
      "memory usage: 1.2+ MB\n"
     ]
    }
   ],
   "source": [
    "data.info()"
   ]
  },
  {
   "cell_type": "code",
   "execution_count": 4,
   "id": "93c0e539",
   "metadata": {
    "colab": {
     "base_uri": "https://localhost:8080/"
    },
    "id": "93c0e539",
    "outputId": "ed0e0608-174f-4bda-be83-38191727a424"
   },
   "outputs": [
    {
     "data": {
      "text/plain": [
       "Marital status                                    0\n",
       "Application mode                                  0\n",
       "Application order                                 0\n",
       "Course                                            0\n",
       "Daytime/evening attendance\\t                      0\n",
       "Previous qualification                            0\n",
       "Previous qualification (grade)                    0\n",
       "Nacionality                                       0\n",
       "Mother's qualification                            0\n",
       "Father's qualification                            0\n",
       "Mother's occupation                               0\n",
       "Father's occupation                               0\n",
       "Admission grade                                   0\n",
       "Displaced                                         0\n",
       "Educational special needs                         0\n",
       "Debtor                                            0\n",
       "Tuition fees up to date                           0\n",
       "Gender                                            0\n",
       "Scholarship holder                                0\n",
       "Age at enrollment                                 0\n",
       "International                                     0\n",
       "Curricular units 1st sem (credited)               0\n",
       "Curricular units 1st sem (enrolled)               0\n",
       "Curricular units 1st sem (evaluations)            0\n",
       "Curricular units 1st sem (approved)               0\n",
       "Curricular units 1st sem (grade)                  0\n",
       "Curricular units 1st sem (without evaluations)    0\n",
       "Curricular units 2nd sem (credited)               0\n",
       "Curricular units 2nd sem (enrolled)               0\n",
       "Curricular units 2nd sem (evaluations)            0\n",
       "Curricular units 2nd sem (approved)               0\n",
       "Curricular units 2nd sem (grade)                  0\n",
       "Curricular units 2nd sem (without evaluations)    0\n",
       "Unemployment rate                                 0\n",
       "Inflation rate                                    0\n",
       "GDP                                               0\n",
       "Target                                            0\n",
       "dtype: int64"
      ]
     },
     "execution_count": 4,
     "metadata": {},
     "output_type": "execute_result"
    }
   ],
   "source": [
    "data.isnull().sum()"
   ]
  },
  {
   "cell_type": "code",
   "execution_count": 5,
   "id": "c563b8fa",
   "metadata": {
    "colab": {
     "base_uri": "https://localhost:8080/"
    },
    "id": "c563b8fa",
    "outputId": "0cb45cd8-c4d7-432a-cca5-e4971cfa1620"
   },
   "outputs": [
    {
     "data": {
      "text/plain": [
       "['Marital status',\n",
       " 'Application mode',\n",
       " 'Application order',\n",
       " 'Course',\n",
       " 'Daytime/evening attendance\\t',\n",
       " 'Previous qualification',\n",
       " 'Previous qualification (grade)',\n",
       " 'Nacionality',\n",
       " \"Mother's qualification\",\n",
       " \"Father's qualification\",\n",
       " \"Mother's occupation\",\n",
       " \"Father's occupation\",\n",
       " 'Admission grade',\n",
       " 'Displaced',\n",
       " 'Educational special needs',\n",
       " 'Debtor',\n",
       " 'Tuition fees up to date',\n",
       " 'Gender',\n",
       " 'Scholarship holder',\n",
       " 'Age at enrollment',\n",
       " 'International',\n",
       " 'Curricular units 1st sem (credited)',\n",
       " 'Curricular units 1st sem (enrolled)',\n",
       " 'Curricular units 1st sem (evaluations)',\n",
       " 'Curricular units 1st sem (approved)',\n",
       " 'Curricular units 1st sem (grade)',\n",
       " 'Curricular units 1st sem (without evaluations)',\n",
       " 'Curricular units 2nd sem (credited)',\n",
       " 'Curricular units 2nd sem (enrolled)',\n",
       " 'Curricular units 2nd sem (evaluations)',\n",
       " 'Curricular units 2nd sem (approved)',\n",
       " 'Curricular units 2nd sem (grade)',\n",
       " 'Curricular units 2nd sem (without evaluations)',\n",
       " 'Unemployment rate',\n",
       " 'Inflation rate',\n",
       " 'GDP',\n",
       " 'Target']"
      ]
     },
     "execution_count": 5,
     "metadata": {},
     "output_type": "execute_result"
    }
   ],
   "source": [
    "list(data.columns)"
   ]
  },
  {
   "cell_type": "code",
   "execution_count": 6,
   "id": "629b3355",
   "metadata": {
    "colab": {
     "base_uri": "https://localhost:8080/"
    },
    "id": "629b3355",
    "outputId": "cfc2fbc3-ac54-4e1b-e340-07bd10f1e265"
   },
   "outputs": [
    {
     "data": {
      "text/plain": [
       "(4424, 37)"
      ]
     },
     "execution_count": 6,
     "metadata": {},
     "output_type": "execute_result"
    }
   ],
   "source": [
    "data.shape"
   ]
  },
  {
   "cell_type": "code",
   "execution_count": 7,
   "id": "8d1a1181",
   "metadata": {
    "colab": {
     "base_uri": "https://localhost:8080/"
    },
    "id": "8d1a1181",
    "outputId": "08b00068-8218-45da-c177-1b5492e7ec94"
   },
   "outputs": [
    {
     "data": {
      "text/plain": [
       "Marital status                                    0\n",
       "Application mode                                  0\n",
       "Application order                                 0\n",
       "Course                                            0\n",
       "Daytime/evening attendance\\t                      0\n",
       "Previous qualification                            0\n",
       "Previous qualification (grade)                    0\n",
       "Nacionality                                       0\n",
       "Mother's qualification                            0\n",
       "Father's qualification                            0\n",
       "Mother's occupation                               0\n",
       "Father's occupation                               0\n",
       "Admission grade                                   0\n",
       "Displaced                                         0\n",
       "Educational special needs                         0\n",
       "Debtor                                            0\n",
       "Tuition fees up to date                           0\n",
       "Gender                                            0\n",
       "Scholarship holder                                0\n",
       "Age at enrollment                                 0\n",
       "International                                     0\n",
       "Curricular units 1st sem (credited)               0\n",
       "Curricular units 1st sem (enrolled)               0\n",
       "Curricular units 1st sem (evaluations)            0\n",
       "Curricular units 1st sem (approved)               0\n",
       "Curricular units 1st sem (grade)                  0\n",
       "Curricular units 1st sem (without evaluations)    0\n",
       "Curricular units 2nd sem (credited)               0\n",
       "Curricular units 2nd sem (enrolled)               0\n",
       "Curricular units 2nd sem (evaluations)            0\n",
       "Curricular units 2nd sem (approved)               0\n",
       "Curricular units 2nd sem (grade)                  0\n",
       "Curricular units 2nd sem (without evaluations)    0\n",
       "Unemployment rate                                 0\n",
       "Inflation rate                                    0\n",
       "GDP                                               0\n",
       "Target                                            0\n",
       "dtype: int64"
      ]
     },
     "execution_count": 7,
     "metadata": {},
     "output_type": "execute_result"
    }
   ],
   "source": [
    "data.isnull().sum()"
   ]
  },
  {
   "cell_type": "code",
   "execution_count": 8,
   "id": "72e7d22e",
   "metadata": {
    "colab": {
     "base_uri": "https://localhost:8080/"
    },
    "id": "72e7d22e",
    "outputId": "23e2080d-d4c8-4334-ac81-f0c399d6f632"
   },
   "outputs": [
    {
     "data": {
      "text/plain": [
       "Graduate    2209\n",
       "Dropout     1421\n",
       "Enrolled     794\n",
       "Name: Target, dtype: int64"
      ]
     },
     "execution_count": 8,
     "metadata": {},
     "output_type": "execute_result"
    }
   ],
   "source": [
    "data.Target.value_counts()"
   ]
  },
  {
   "cell_type": "code",
   "execution_count": 9,
   "id": "7b12d0af",
   "metadata": {
    "colab": {
     "base_uri": "https://localhost:8080/"
    },
    "id": "7b12d0af",
    "outputId": "18138930-627f-40eb-a9b9-fc374d495fa5"
   },
   "outputs": [
    {
     "data": {
      "text/plain": [
       "Graduate    49.932188\n",
       "Dropout     32.120253\n",
       "Enrolled    17.947559\n",
       "Name: Target, dtype: float64"
      ]
     },
     "execution_count": 9,
     "metadata": {},
     "output_type": "execute_result"
    }
   ],
   "source": [
    "data.Target.value_counts(normalize=True)*100"
   ]
  },
  {
   "cell_type": "code",
   "execution_count": 10,
   "id": "c0739e59",
   "metadata": {
    "colab": {
     "base_uri": "https://localhost:8080/",
     "height": 446
    },
    "id": "c0739e59",
    "outputId": "f36ecd29-15b2-4e5a-bdb8-c374b154beff"
   },
   "outputs": [
    {
     "data": {
      "text/html": [
       "\n",
       "  <div id=\"df-c39db734-bb5b-4f06-8bb7-c14564487ab4\">\n",
       "    <div class=\"colab-df-container\">\n",
       "      <div>\n",
       "<style scoped>\n",
       "    .dataframe tbody tr th:only-of-type {\n",
       "        vertical-align: middle;\n",
       "    }\n",
       "\n",
       "    .dataframe tbody tr th {\n",
       "        vertical-align: top;\n",
       "    }\n",
       "\n",
       "    .dataframe thead th {\n",
       "        text-align: right;\n",
       "    }\n",
       "</style>\n",
       "<table border=\"1\" class=\"dataframe\">\n",
       "  <thead>\n",
       "    <tr style=\"text-align: right;\">\n",
       "      <th></th>\n",
       "      <th>Marital status</th>\n",
       "      <th>Application mode</th>\n",
       "      <th>Application order</th>\n",
       "      <th>Course</th>\n",
       "      <th>Daytime/evening attendance\\t</th>\n",
       "      <th>Previous qualification</th>\n",
       "      <th>Previous qualification (grade)</th>\n",
       "      <th>Nacionality</th>\n",
       "      <th>Mother's qualification</th>\n",
       "      <th>Father's qualification</th>\n",
       "      <th>...</th>\n",
       "      <th>Curricular units 1st sem (without evaluations)</th>\n",
       "      <th>Curricular units 2nd sem (credited)</th>\n",
       "      <th>Curricular units 2nd sem (enrolled)</th>\n",
       "      <th>Curricular units 2nd sem (evaluations)</th>\n",
       "      <th>Curricular units 2nd sem (approved)</th>\n",
       "      <th>Curricular units 2nd sem (grade)</th>\n",
       "      <th>Curricular units 2nd sem (without evaluations)</th>\n",
       "      <th>Unemployment rate</th>\n",
       "      <th>Inflation rate</th>\n",
       "      <th>GDP</th>\n",
       "    </tr>\n",
       "  </thead>\n",
       "  <tbody>\n",
       "    <tr>\n",
       "      <th>count</th>\n",
       "      <td>4424.000000</td>\n",
       "      <td>4424.000000</td>\n",
       "      <td>4424.000000</td>\n",
       "      <td>4424.000000</td>\n",
       "      <td>4424.000000</td>\n",
       "      <td>4424.000000</td>\n",
       "      <td>4424.000000</td>\n",
       "      <td>4424.000000</td>\n",
       "      <td>4424.000000</td>\n",
       "      <td>4424.000000</td>\n",
       "      <td>...</td>\n",
       "      <td>4424.000000</td>\n",
       "      <td>4424.000000</td>\n",
       "      <td>4424.000000</td>\n",
       "      <td>4424.000000</td>\n",
       "      <td>4424.000000</td>\n",
       "      <td>4424.000000</td>\n",
       "      <td>4424.000000</td>\n",
       "      <td>4424.000000</td>\n",
       "      <td>4424.000000</td>\n",
       "      <td>4424.000000</td>\n",
       "    </tr>\n",
       "    <tr>\n",
       "      <th>mean</th>\n",
       "      <td>1.178571</td>\n",
       "      <td>18.669078</td>\n",
       "      <td>1.727848</td>\n",
       "      <td>8856.642631</td>\n",
       "      <td>0.890823</td>\n",
       "      <td>4.577758</td>\n",
       "      <td>132.613314</td>\n",
       "      <td>1.873192</td>\n",
       "      <td>19.561935</td>\n",
       "      <td>22.275316</td>\n",
       "      <td>...</td>\n",
       "      <td>0.137658</td>\n",
       "      <td>0.541817</td>\n",
       "      <td>6.232143</td>\n",
       "      <td>8.063291</td>\n",
       "      <td>4.435805</td>\n",
       "      <td>10.230206</td>\n",
       "      <td>0.150316</td>\n",
       "      <td>11.566139</td>\n",
       "      <td>1.228029</td>\n",
       "      <td>0.001969</td>\n",
       "    </tr>\n",
       "    <tr>\n",
       "      <th>std</th>\n",
       "      <td>0.605747</td>\n",
       "      <td>17.484682</td>\n",
       "      <td>1.313793</td>\n",
       "      <td>2063.566416</td>\n",
       "      <td>0.311897</td>\n",
       "      <td>10.216592</td>\n",
       "      <td>13.188332</td>\n",
       "      <td>6.914514</td>\n",
       "      <td>15.603186</td>\n",
       "      <td>15.343108</td>\n",
       "      <td>...</td>\n",
       "      <td>0.690880</td>\n",
       "      <td>1.918546</td>\n",
       "      <td>2.195951</td>\n",
       "      <td>3.947951</td>\n",
       "      <td>3.014764</td>\n",
       "      <td>5.210808</td>\n",
       "      <td>0.753774</td>\n",
       "      <td>2.663850</td>\n",
       "      <td>1.382711</td>\n",
       "      <td>2.269935</td>\n",
       "    </tr>\n",
       "    <tr>\n",
       "      <th>min</th>\n",
       "      <td>1.000000</td>\n",
       "      <td>1.000000</td>\n",
       "      <td>0.000000</td>\n",
       "      <td>33.000000</td>\n",
       "      <td>0.000000</td>\n",
       "      <td>1.000000</td>\n",
       "      <td>95.000000</td>\n",
       "      <td>1.000000</td>\n",
       "      <td>1.000000</td>\n",
       "      <td>1.000000</td>\n",
       "      <td>...</td>\n",
       "      <td>0.000000</td>\n",
       "      <td>0.000000</td>\n",
       "      <td>0.000000</td>\n",
       "      <td>0.000000</td>\n",
       "      <td>0.000000</td>\n",
       "      <td>0.000000</td>\n",
       "      <td>0.000000</td>\n",
       "      <td>7.600000</td>\n",
       "      <td>-0.800000</td>\n",
       "      <td>-4.060000</td>\n",
       "    </tr>\n",
       "    <tr>\n",
       "      <th>25%</th>\n",
       "      <td>1.000000</td>\n",
       "      <td>1.000000</td>\n",
       "      <td>1.000000</td>\n",
       "      <td>9085.000000</td>\n",
       "      <td>1.000000</td>\n",
       "      <td>1.000000</td>\n",
       "      <td>125.000000</td>\n",
       "      <td>1.000000</td>\n",
       "      <td>2.000000</td>\n",
       "      <td>3.000000</td>\n",
       "      <td>...</td>\n",
       "      <td>0.000000</td>\n",
       "      <td>0.000000</td>\n",
       "      <td>5.000000</td>\n",
       "      <td>6.000000</td>\n",
       "      <td>2.000000</td>\n",
       "      <td>10.750000</td>\n",
       "      <td>0.000000</td>\n",
       "      <td>9.400000</td>\n",
       "      <td>0.300000</td>\n",
       "      <td>-1.700000</td>\n",
       "    </tr>\n",
       "    <tr>\n",
       "      <th>50%</th>\n",
       "      <td>1.000000</td>\n",
       "      <td>17.000000</td>\n",
       "      <td>1.000000</td>\n",
       "      <td>9238.000000</td>\n",
       "      <td>1.000000</td>\n",
       "      <td>1.000000</td>\n",
       "      <td>133.100000</td>\n",
       "      <td>1.000000</td>\n",
       "      <td>19.000000</td>\n",
       "      <td>19.000000</td>\n",
       "      <td>...</td>\n",
       "      <td>0.000000</td>\n",
       "      <td>0.000000</td>\n",
       "      <td>6.000000</td>\n",
       "      <td>8.000000</td>\n",
       "      <td>5.000000</td>\n",
       "      <td>12.200000</td>\n",
       "      <td>0.000000</td>\n",
       "      <td>11.100000</td>\n",
       "      <td>1.400000</td>\n",
       "      <td>0.320000</td>\n",
       "    </tr>\n",
       "    <tr>\n",
       "      <th>75%</th>\n",
       "      <td>1.000000</td>\n",
       "      <td>39.000000</td>\n",
       "      <td>2.000000</td>\n",
       "      <td>9556.000000</td>\n",
       "      <td>1.000000</td>\n",
       "      <td>1.000000</td>\n",
       "      <td>140.000000</td>\n",
       "      <td>1.000000</td>\n",
       "      <td>37.000000</td>\n",
       "      <td>37.000000</td>\n",
       "      <td>...</td>\n",
       "      <td>0.000000</td>\n",
       "      <td>0.000000</td>\n",
       "      <td>7.000000</td>\n",
       "      <td>10.000000</td>\n",
       "      <td>6.000000</td>\n",
       "      <td>13.333333</td>\n",
       "      <td>0.000000</td>\n",
       "      <td>13.900000</td>\n",
       "      <td>2.600000</td>\n",
       "      <td>1.790000</td>\n",
       "    </tr>\n",
       "    <tr>\n",
       "      <th>max</th>\n",
       "      <td>6.000000</td>\n",
       "      <td>57.000000</td>\n",
       "      <td>9.000000</td>\n",
       "      <td>9991.000000</td>\n",
       "      <td>1.000000</td>\n",
       "      <td>43.000000</td>\n",
       "      <td>190.000000</td>\n",
       "      <td>109.000000</td>\n",
       "      <td>44.000000</td>\n",
       "      <td>44.000000</td>\n",
       "      <td>...</td>\n",
       "      <td>12.000000</td>\n",
       "      <td>19.000000</td>\n",
       "      <td>23.000000</td>\n",
       "      <td>33.000000</td>\n",
       "      <td>20.000000</td>\n",
       "      <td>18.571429</td>\n",
       "      <td>12.000000</td>\n",
       "      <td>16.200000</td>\n",
       "      <td>3.700000</td>\n",
       "      <td>3.510000</td>\n",
       "    </tr>\n",
       "  </tbody>\n",
       "</table>\n",
       "<p>8 rows × 36 columns</p>\n",
       "</div>\n",
       "      <button class=\"colab-df-convert\" onclick=\"convertToInteractive('df-c39db734-bb5b-4f06-8bb7-c14564487ab4')\"\n",
       "              title=\"Convert this dataframe to an interactive table.\"\n",
       "              style=\"display:none;\">\n",
       "        \n",
       "  <svg xmlns=\"http://www.w3.org/2000/svg\" height=\"24px\"viewBox=\"0 0 24 24\"\n",
       "       width=\"24px\">\n",
       "    <path d=\"M0 0h24v24H0V0z\" fill=\"none\"/>\n",
       "    <path d=\"M18.56 5.44l.94 2.06.94-2.06 2.06-.94-2.06-.94-.94-2.06-.94 2.06-2.06.94zm-11 1L8.5 8.5l.94-2.06 2.06-.94-2.06-.94L8.5 2.5l-.94 2.06-2.06.94zm10 10l.94 2.06.94-2.06 2.06-.94-2.06-.94-.94-2.06-.94 2.06-2.06.94z\"/><path d=\"M17.41 7.96l-1.37-1.37c-.4-.4-.92-.59-1.43-.59-.52 0-1.04.2-1.43.59L10.3 9.45l-7.72 7.72c-.78.78-.78 2.05 0 2.83L4 21.41c.39.39.9.59 1.41.59.51 0 1.02-.2 1.41-.59l7.78-7.78 2.81-2.81c.8-.78.8-2.07 0-2.86zM5.41 20L4 18.59l7.72-7.72 1.47 1.35L5.41 20z\"/>\n",
       "  </svg>\n",
       "      </button>\n",
       "      \n",
       "  <style>\n",
       "    .colab-df-container {\n",
       "      display:flex;\n",
       "      flex-wrap:wrap;\n",
       "      gap: 12px;\n",
       "    }\n",
       "\n",
       "    .colab-df-convert {\n",
       "      background-color: #E8F0FE;\n",
       "      border: none;\n",
       "      border-radius: 50%;\n",
       "      cursor: pointer;\n",
       "      display: none;\n",
       "      fill: #1967D2;\n",
       "      height: 32px;\n",
       "      padding: 0 0 0 0;\n",
       "      width: 32px;\n",
       "    }\n",
       "\n",
       "    .colab-df-convert:hover {\n",
       "      background-color: #E2EBFA;\n",
       "      box-shadow: 0px 1px 2px rgba(60, 64, 67, 0.3), 0px 1px 3px 1px rgba(60, 64, 67, 0.15);\n",
       "      fill: #174EA6;\n",
       "    }\n",
       "\n",
       "    [theme=dark] .colab-df-convert {\n",
       "      background-color: #3B4455;\n",
       "      fill: #D2E3FC;\n",
       "    }\n",
       "\n",
       "    [theme=dark] .colab-df-convert:hover {\n",
       "      background-color: #434B5C;\n",
       "      box-shadow: 0px 1px 3px 1px rgba(0, 0, 0, 0.15);\n",
       "      filter: drop-shadow(0px 1px 2px rgba(0, 0, 0, 0.3));\n",
       "      fill: #FFFFFF;\n",
       "    }\n",
       "  </style>\n",
       "\n",
       "      <script>\n",
       "        const buttonEl =\n",
       "          document.querySelector('#df-c39db734-bb5b-4f06-8bb7-c14564487ab4 button.colab-df-convert');\n",
       "        buttonEl.style.display =\n",
       "          google.colab.kernel.accessAllowed ? 'block' : 'none';\n",
       "\n",
       "        async function convertToInteractive(key) {\n",
       "          const element = document.querySelector('#df-c39db734-bb5b-4f06-8bb7-c14564487ab4');\n",
       "          const dataTable =\n",
       "            await google.colab.kernel.invokeFunction('convertToInteractive',\n",
       "                                                     [key], {});\n",
       "          if (!dataTable) return;\n",
       "\n",
       "          const docLinkHtml = 'Like what you see? Visit the ' +\n",
       "            '<a target=\"_blank\" href=https://colab.research.google.com/notebooks/data_table.ipynb>data table notebook</a>'\n",
       "            + ' to learn more about interactive tables.';\n",
       "          element.innerHTML = '';\n",
       "          dataTable['output_type'] = 'display_data';\n",
       "          await google.colab.output.renderOutput(dataTable, element);\n",
       "          const docLink = document.createElement('div');\n",
       "          docLink.innerHTML = docLinkHtml;\n",
       "          element.appendChild(docLink);\n",
       "        }\n",
       "      </script>\n",
       "    </div>\n",
       "  </div>\n",
       "  "
      ],
      "text/plain": [
       "       Marital status  Application mode  Application order       Course  \\\n",
       "count     4424.000000       4424.000000        4424.000000  4424.000000   \n",
       "mean         1.178571         18.669078           1.727848  8856.642631   \n",
       "std          0.605747         17.484682           1.313793  2063.566416   \n",
       "min          1.000000          1.000000           0.000000    33.000000   \n",
       "25%          1.000000          1.000000           1.000000  9085.000000   \n",
       "50%          1.000000         17.000000           1.000000  9238.000000   \n",
       "75%          1.000000         39.000000           2.000000  9556.000000   \n",
       "max          6.000000         57.000000           9.000000  9991.000000   \n",
       "\n",
       "       Daytime/evening attendance\\t  Previous qualification  \\\n",
       "count                   4424.000000             4424.000000   \n",
       "mean                       0.890823                4.577758   \n",
       "std                        0.311897               10.216592   \n",
       "min                        0.000000                1.000000   \n",
       "25%                        1.000000                1.000000   \n",
       "50%                        1.000000                1.000000   \n",
       "75%                        1.000000                1.000000   \n",
       "max                        1.000000               43.000000   \n",
       "\n",
       "       Previous qualification (grade)  Nacionality  Mother's qualification  \\\n",
       "count                     4424.000000  4424.000000             4424.000000   \n",
       "mean                       132.613314     1.873192               19.561935   \n",
       "std                         13.188332     6.914514               15.603186   \n",
       "min                         95.000000     1.000000                1.000000   \n",
       "25%                        125.000000     1.000000                2.000000   \n",
       "50%                        133.100000     1.000000               19.000000   \n",
       "75%                        140.000000     1.000000               37.000000   \n",
       "max                        190.000000   109.000000               44.000000   \n",
       "\n",
       "       Father's qualification  ...  \\\n",
       "count             4424.000000  ...   \n",
       "mean                22.275316  ...   \n",
       "std                 15.343108  ...   \n",
       "min                  1.000000  ...   \n",
       "25%                  3.000000  ...   \n",
       "50%                 19.000000  ...   \n",
       "75%                 37.000000  ...   \n",
       "max                 44.000000  ...   \n",
       "\n",
       "       Curricular units 1st sem (without evaluations)  \\\n",
       "count                                     4424.000000   \n",
       "mean                                         0.137658   \n",
       "std                                          0.690880   \n",
       "min                                          0.000000   \n",
       "25%                                          0.000000   \n",
       "50%                                          0.000000   \n",
       "75%                                          0.000000   \n",
       "max                                         12.000000   \n",
       "\n",
       "       Curricular units 2nd sem (credited)  \\\n",
       "count                          4424.000000   \n",
       "mean                              0.541817   \n",
       "std                               1.918546   \n",
       "min                               0.000000   \n",
       "25%                               0.000000   \n",
       "50%                               0.000000   \n",
       "75%                               0.000000   \n",
       "max                              19.000000   \n",
       "\n",
       "       Curricular units 2nd sem (enrolled)  \\\n",
       "count                          4424.000000   \n",
       "mean                              6.232143   \n",
       "std                               2.195951   \n",
       "min                               0.000000   \n",
       "25%                               5.000000   \n",
       "50%                               6.000000   \n",
       "75%                               7.000000   \n",
       "max                              23.000000   \n",
       "\n",
       "       Curricular units 2nd sem (evaluations)  \\\n",
       "count                             4424.000000   \n",
       "mean                                 8.063291   \n",
       "std                                  3.947951   \n",
       "min                                  0.000000   \n",
       "25%                                  6.000000   \n",
       "50%                                  8.000000   \n",
       "75%                                 10.000000   \n",
       "max                                 33.000000   \n",
       "\n",
       "       Curricular units 2nd sem (approved)  Curricular units 2nd sem (grade)  \\\n",
       "count                          4424.000000                       4424.000000   \n",
       "mean                              4.435805                         10.230206   \n",
       "std                               3.014764                          5.210808   \n",
       "min                               0.000000                          0.000000   \n",
       "25%                               2.000000                         10.750000   \n",
       "50%                               5.000000                         12.200000   \n",
       "75%                               6.000000                         13.333333   \n",
       "max                              20.000000                         18.571429   \n",
       "\n",
       "       Curricular units 2nd sem (without evaluations)  Unemployment rate  \\\n",
       "count                                     4424.000000        4424.000000   \n",
       "mean                                         0.150316          11.566139   \n",
       "std                                          0.753774           2.663850   \n",
       "min                                          0.000000           7.600000   \n",
       "25%                                          0.000000           9.400000   \n",
       "50%                                          0.000000          11.100000   \n",
       "75%                                          0.000000          13.900000   \n",
       "max                                         12.000000          16.200000   \n",
       "\n",
       "       Inflation rate          GDP  \n",
       "count     4424.000000  4424.000000  \n",
       "mean         1.228029     0.001969  \n",
       "std          1.382711     2.269935  \n",
       "min         -0.800000    -4.060000  \n",
       "25%          0.300000    -1.700000  \n",
       "50%          1.400000     0.320000  \n",
       "75%          2.600000     1.790000  \n",
       "max          3.700000     3.510000  \n",
       "\n",
       "[8 rows x 36 columns]"
      ]
     },
     "execution_count": 10,
     "metadata": {},
     "output_type": "execute_result"
    }
   ],
   "source": [
    "data.describe()"
   ]
  },
  {
   "cell_type": "code",
   "execution_count": 11,
   "id": "95376b4f",
   "metadata": {
    "colab": {
     "base_uri": "https://localhost:8080/",
     "height": 607
    },
    "id": "95376b4f",
    "outputId": "fa87f3a3-6566-4a83-c238-4f63d4a12afc"
   },
   "outputs": [
    {
     "data": {
      "image/png": "[encoded data removed]",
      "text/plain": [
       "<Figure size 864x720 with 36 Axes>"
      ]
     },
     "metadata": {
      "needs_background": "light"
     },
     "output_type": "display_data"
    }
   ],
   "source": [
    "_ = data.hist(bins=50, figsize=(12,10))\n"
   ]
  },
  {
   "cell_type": "code",
   "execution_count": 12,
   "id": "159bfe26",
   "metadata": {
    "colab": {
     "base_uri": "https://localhost:8080/"
    },
    "id": "159bfe26",
    "outputId": "f0d0d01b-2c49-4724-b33e-fb2a04f66b6e"
   },
   "outputs": [
    {
     "data": {
      "text/plain": [
       "Graduate    2209\n",
       "Dropout     1421\n",
       "Enrolled     794\n",
       "Name: Target, dtype: int64"
      ]
     },
     "execution_count": 12,
     "metadata": {},
     "output_type": "execute_result"
    }
   ],
   "source": [
    "data.Target.value_counts()"
   ]
  },
  {
   "cell_type": "code",
   "execution_count": 12,
   "id": "6a941415",
   "metadata": {
    "id": "6a941415"
   },
   "outputs": [],
   "source": []
  },
  {
   "cell_type": "code",
   "execution_count": 13,
   "id": "cff9216f",
   "metadata": {
    "colab": {
     "base_uri": "https://localhost:8080/",
     "height": 206
    },
    "id": "cff9216f",
    "outputId": "d5516187-fdf9-422c-f48b-16433df41c69"
   },
   "outputs": [
    {
     "data": {
      "text/html": [
       "\n",
       "  <div id=\"df-93d05353-1f25-4b9c-b861-eea738e5d1ce\">\n",
       "    <div class=\"colab-df-container\">\n",
       "      <div>\n",
       "<style scoped>\n",
       "    .dataframe tbody tr th:only-of-type {\n",
       "        vertical-align: middle;\n",
       "    }\n",
       "\n",
       "    .dataframe tbody tr th {\n",
       "        vertical-align: top;\n",
       "    }\n",
       "\n",
       "    .dataframe thead th {\n",
       "        text-align: right;\n",
       "    }\n",
       "</style>\n",
       "<table border=\"1\" class=\"dataframe\">\n",
       "  <thead>\n",
       "    <tr style=\"text-align: right;\">\n",
       "      <th></th>\n",
       "      <th>Application mode</th>\n",
       "      <th>Application order</th>\n",
       "      <th>Course</th>\n",
       "      <th>Previous qualification</th>\n",
       "      <th>Previous qualification (grade)</th>\n",
       "    </tr>\n",
       "  </thead>\n",
       "  <tbody>\n",
       "    <tr>\n",
       "      <th>0</th>\n",
       "      <td>17</td>\n",
       "      <td>5</td>\n",
       "      <td>171</td>\n",
       "      <td>1</td>\n",
       "      <td>122.0</td>\n",
       "    </tr>\n",
       "    <tr>\n",
       "      <th>1</th>\n",
       "      <td>15</td>\n",
       "      <td>1</td>\n",
       "      <td>9254</td>\n",
       "      <td>1</td>\n",
       "      <td>160.0</td>\n",
       "    </tr>\n",
       "    <tr>\n",
       "      <th>2</th>\n",
       "      <td>1</td>\n",
       "      <td>5</td>\n",
       "      <td>9070</td>\n",
       "      <td>1</td>\n",
       "      <td>122.0</td>\n",
       "    </tr>\n",
       "    <tr>\n",
       "      <th>3</th>\n",
       "      <td>17</td>\n",
       "      <td>2</td>\n",
       "      <td>9773</td>\n",
       "      <td>1</td>\n",
       "      <td>122.0</td>\n",
       "    </tr>\n",
       "    <tr>\n",
       "      <th>4</th>\n",
       "      <td>39</td>\n",
       "      <td>1</td>\n",
       "      <td>8014</td>\n",
       "      <td>1</td>\n",
       "      <td>100.0</td>\n",
       "    </tr>\n",
       "  </tbody>\n",
       "</table>\n",
       "</div>\n",
       "      <button class=\"colab-df-convert\" onclick=\"convertToInteractive('df-93d05353-1f25-4b9c-b861-eea738e5d1ce')\"\n",
       "              title=\"Convert this dataframe to an interactive table.\"\n",
       "              style=\"display:none;\">\n",
       "        \n",
       "  <svg xmlns=\"http://www.w3.org/2000/svg\" height=\"24px\"viewBox=\"0 0 24 24\"\n",
       "       width=\"24px\">\n",
       "    <path d=\"M0 0h24v24H0V0z\" fill=\"none\"/>\n",
       "    <path d=\"M18.56 5.44l.94 2.06.94-2.06 2.06-.94-2.06-.94-.94-2.06-.94 2.06-2.06.94zm-11 1L8.5 8.5l.94-2.06 2.06-.94-2.06-.94L8.5 2.5l-.94 2.06-2.06.94zm10 10l.94 2.06.94-2.06 2.06-.94-2.06-.94-.94-2.06-.94 2.06-2.06.94z\"/><path d=\"M17.41 7.96l-1.37-1.37c-.4-.4-.92-.59-1.43-.59-.52 0-1.04.2-1.43.59L10.3 9.45l-7.72 7.72c-.78.78-.78 2.05 0 2.83L4 21.41c.39.39.9.59 1.41.59.51 0 1.02-.2 1.41-.59l7.78-7.78 2.81-2.81c.8-.78.8-2.07 0-2.86zM5.41 20L4 18.59l7.72-7.72 1.47 1.35L5.41 20z\"/>\n",
       "  </svg>\n",
       "      </button>\n",
       "      \n",
       "  <style>\n",
       "    .colab-df-container {\n",
       "      display:flex;\n",
       "      flex-wrap:wrap;\n",
       "      gap: 12px;\n",
       "    }\n",
       "\n",
       "    .colab-df-convert {\n",
       "      background-color: #E8F0FE;\n",
       "      border: none;\n",
       "      border-radius: 50%;\n",
       "      cursor: pointer;\n",
       "      display: none;\n",
       "      fill: #1967D2;\n",
       "      height: 32px;\n",
       "      padding: 0 0 0 0;\n",
       "      width: 32px;\n",
       "    }\n",
       "\n",
       "    .colab-df-convert:hover {\n",
       "      background-color: #E2EBFA;\n",
       "      box-shadow: 0px 1px 2px rgba(60, 64, 67, 0.3), 0px 1px 3px 1px rgba(60, 64, 67, 0.15);\n",
       "      fill: #174EA6;\n",
       "    }\n",
       "\n",
       "    [theme=dark] .colab-df-convert {\n",
       "      background-color: #3B4455;\n",
       "      fill: #D2E3FC;\n",
       "    }\n",
       "\n",
       "    [theme=dark] .colab-df-convert:hover {\n",
       "      background-color: #434B5C;\n",
       "      box-shadow: 0px 1px 3px 1px rgba(0, 0, 0, 0.15);\n",
       "      filter: drop-shadow(0px 1px 2px rgba(0, 0, 0, 0.3));\n",
       "      fill: #FFFFFF;\n",
       "    }\n",
       "  </style>\n",
       "\n",
       "      <script>\n",
       "        const buttonEl =\n",
       "          document.querySelector('#df-93d05353-1f25-4b9c-b861-eea738e5d1ce button.colab-df-convert');\n",
       "        buttonEl.style.display =\n",
       "          google.colab.kernel.accessAllowed ? 'block' : 'none';\n",
       "\n",
       "        async function convertToInteractive(key) {\n",
       "          const element = document.querySelector('#df-93d05353-1f25-4b9c-b861-eea738e5d1ce');\n",
       "          const dataTable =\n",
       "            await google.colab.kernel.invokeFunction('convertToInteractive',\n",
       "                                                     [key], {});\n",
       "          if (!dataTable) return;\n",
       "\n",
       "          const docLinkHtml = 'Like what you see? Visit the ' +\n",
       "            '<a target=\"_blank\" href=https://colab.research.google.com/notebooks/data_table.ipynb>data table notebook</a>'\n",
       "            + ' to learn more about interactive tables.';\n",
       "          element.innerHTML = '';\n",
       "          dataTable['output_type'] = 'display_data';\n",
       "          await google.colab.output.renderOutput(dataTable, element);\n",
       "          const docLink = document.createElement('div');\n",
       "          docLink.innerHTML = docLinkHtml;\n",
       "          element.appendChild(docLink);\n",
       "        }\n",
       "      </script>\n",
       "    </div>\n",
       "  </div>\n",
       "  "
      ],
      "text/plain": [
       "   Application mode  Application order  Course  Previous qualification  \\\n",
       "0                17                  5     171                       1   \n",
       "1                15                  1    9254                       1   \n",
       "2                 1                  5    9070                       1   \n",
       "3                17                  2    9773                       1   \n",
       "4                39                  1    8014                       1   \n",
       "\n",
       "   Previous qualification (grade)  \n",
       "0                           122.0  \n",
       "1                           160.0  \n",
       "2                           122.0  \n",
       "3                           122.0  \n",
       "4                           100.0  "
      ]
     },
     "execution_count": 13,
     "metadata": {},
     "output_type": "execute_result"
    }
   ],
   "source": [
    "features = [\"Application mode\", \"Application order\", \"Course\", \"Previous qualification\", \"Previous qualification (grade)\"]\n",
    "data[features].head()"
   ]
  },
  {
   "cell_type": "code",
   "execution_count": 14,
   "id": "a25f6e48",
   "metadata": {
    "colab": {
     "base_uri": "https://localhost:8080/",
     "height": 903
    },
    "id": "a25f6e48",
    "outputId": "e1e45ccb-a4df-48da-9fc1-c72f1e29e455"
   },
   "outputs": [
    {
     "data": {
      "image/png": "[encoded data removed]",
      "text/plain": [
       "<Figure size 900x900 with 30 Axes>"
      ]
     },
     "metadata": {
      "needs_background": "light"
     },
     "output_type": "display_data"
    }
   ],
   "source": [
    "# Scatterplots\n",
    "_ = sns.pairplot(data[features])\n",
    "# An equivalent plot can be done with pandas:\n",
    "#_ = pd.plotting.scatter_matrix(df[features], figsize=(12, 8))"
   ]
  },
  {
   "cell_type": "code",
   "execution_count": 15,
   "id": "884313f4",
   "metadata": {
    "colab": {
     "base_uri": "https://localhost:8080/"
    },
    "id": "884313f4",
    "outputId": "de58f24b-4f65-4f9a-eb38-84318ad0c4d5"
   },
   "outputs": [
    {
     "data": {
      "text/plain": [
       "Marital status                                    1.000000\n",
       "Age at enrollment                                 0.522717\n",
       "Application mode                                  0.264006\n",
       "Mother's qualification                            0.193163\n",
       "Father's qualification                            0.130353\n",
       "Curricular units 2nd sem (credited)               0.062831\n",
       "Previous qualification                            0.062529\n",
       "Curricular units 1st sem (credited)               0.061209\n",
       "Curricular units 1st sem (evaluations)            0.058030\n",
       "Curricular units 1st sem (enrolled)               0.052107\n",
       "Course                                            0.046365\n",
       "Curricular units 2nd sem (enrolled)               0.039026\n",
       "Mother's occupation                               0.034994\n",
       "Curricular units 1st sem (without evaluations)    0.034711\n",
       "Debtor                                            0.034304\n",
       "Father's occupation                               0.031609\n",
       "Curricular units 2nd sem (evaluations)            0.022784\n",
       "Curricular units 2nd sem (without evaluations)    0.020426\n",
       "Inflation rate                                    0.008761\n",
       "Admission grade                                  -0.004771\n",
       "Nacionality                                      -0.008843\n",
       "Gender                                           -0.014738\n",
       "Unemployment rate                                -0.020338\n",
       "Previous qualification (grade)                   -0.022406\n",
       "GDP                                              -0.027003\n",
       "International                                    -0.027905\n",
       "Educational special needs                        -0.028343\n",
       "Curricular units 1st sem (approved)              -0.031027\n",
       "Curricular units 2nd sem (approved)              -0.043739\n",
       "Scholarship holder                               -0.053765\n",
       "Curricular units 1st sem (grade)                 -0.059811\n",
       "Curricular units 2nd sem (grade)                 -0.071506\n",
       "Tuition fees up to date                          -0.087158\n",
       "Application order                                -0.125854\n",
       "Displaced                                        -0.234886\n",
       "Daytime/evening attendance\\t                     -0.274939\n",
       "Name: Marital status, dtype: float64"
      ]
     },
     "execution_count": 15,
     "metadata": {},
     "output_type": "execute_result"
    }
   ],
   "source": [
    "# Correlations\n",
    "correlations = data.corr()  # this is a dataframe\n",
    "# let's see how much each attribute correlates with the outcome 'like'\n",
    "correlations['Marital status'].sort_values(ascending=False)"
   ]
  },
  {
   "cell_type": "code",
   "execution_count": 4,
   "id": "699e00ca",
   "metadata": {
    "id": "699e00ca"
   },
   "outputs": [],
   "source": [
    "from sklearn.model_selection import train_test_split, StratifiedShuffleSplit, cross_val_score ### library for cross validation score\n",
    "\n",
    "from sklearn.preprocessing import LabelEncoder, StandardScaler, OneHotEncoder\n",
    "from sklearn.compose import ColumnTransformer\n",
    "from sklearn.base import BaseEstimator, TransformerMixin\n",
    "from sklearn.pipeline import Pipeline"
   ]
  },
  {
   "cell_type": "code",
   "execution_count": 17,
   "id": "0654b651",
   "metadata": {
    "colab": {
     "base_uri": "https://localhost:8080/"
    },
    "id": "0654b651",
    "outputId": "90643de1-9ab3-47b4-fb25-f5e728e84513"
   },
   "outputs": [
    {
     "name": "stdout",
     "output_type": "stream",
     "text": [
      "Distribution before imbalancing\n",
      "Graduate    2209\n",
      "Dropout     1421\n",
      "Enrolled     794\n",
      "Name: Target, dtype: int64\n",
      "Balanced Percentage : 39.146005509641874 %\n",
      "Balanced Percentage : 60.85399449035813 %\n"
     ]
    }
   ],
   "source": [
    "#Checking the distributation\n",
    "print(f'Distribution before imbalancing') \n",
    "\n",
    "data_count=data['Target'].value_counts()\n",
    "print(data_count)\n",
    "\n",
    "imbalance_target=(data_count[1] /(data_count[0] + data_count[1])) * 100\n",
    "print(f'Balanced Percentage : {imbalance_target} %')\n",
    "\n",
    "imbalance_target=(data_count[0] / (data_count[0] + data_count[1])) * 100\n",
    "print(f'Balanced Percentage : {imbalance_target} %')"
   ]
  },
  {
   "cell_type": "code",
   "execution_count": 5,
   "id": "bc04b1d6",
   "metadata": {
    "id": "bc04b1d6"
   },
   "outputs": [],
   "source": [
    "x = data.drop(['Target'],axis=1)\n",
    "y = data['Target']"
   ]
  },
  {
   "cell_type": "code",
   "execution_count": 6,
   "id": "52d4fe42",
   "metadata": {
    "id": "52d4fe42"
   },
   "outputs": [],
   "source": [
    "X_train, X_test, y_train, y_test = train_test_split(x,y, test_size=0.25, random_state=50)\n",
    "# Define the k fold cross validation parameters for various classification model evaluation\n"
   ]
  },
  {
   "cell_type": "code",
   "execution_count": 20,
   "id": "61736259",
   "metadata": {
    "colab": {
     "base_uri": "https://localhost:8080/",
     "height": 295
    },
    "id": "61736259",
    "outputId": "39457b4d-6063-4c7e-bb80-09f7725dcd75"
   },
   "outputs": [
    {
     "data": {
      "image/png": "[encoded data removed]",
      "text/plain": [
       "<Figure size 432x288 with 1 Axes>"
      ]
     },
     "metadata": {},
     "output_type": "display_data"
    }
   ],
   "source": [
    "y = LabelEncoder().fit_transform(y)\n",
    "### summarize the distribution\n",
    "# Target outout class\n",
    "sns.set_style('whitegrid')\n",
    "fig= sns.countplot(y= data['Target'],data=data,palette='RdBu_r').get_figure()\n",
    "plt.title('Balance Dataset ')\n",
    "plt.xlabel('Classes')\n",
    "plt.ylabel('Total Number of Sample')\n",
    "plt.show()\n",
    "fig.savefig('histogram_org_heart.pdf')"
   ]
  },
  {
   "cell_type": "code",
   "execution_count": 21,
   "id": "4fae0ba4",
   "metadata": {
    "id": "4fae0ba4"
   },
   "outputs": [],
   "source": [
    "from collections import Counter\n",
    "from matplotlib import pyplot\n",
    "from imblearn.over_sampling import SMOTE ### library for oversampling"
   ]
  },
  {
   "cell_type": "code",
   "execution_count": 22,
   "id": "c0d85746",
   "metadata": {
    "colab": {
     "base_uri": "https://localhost:8080/",
     "height": 317
    },
    "id": "c0d85746",
    "outputId": "16db25b9-26dd-4016-bce8-568f74b83b4a"
   },
   "outputs": [
    {
     "name": "stdout",
     "output_type": "stream",
     "text": [
      "class=0, n=2209 (33.333%)\n",
      "class=2, n=2209 (33.333%)\n",
      "class=1, n=2209 (33.333%)\n"
     ]
    },
    {
     "data": {
      "image/png": "[encoded data removed]",
      "text/plain": [
       "<Figure size 432x288 with 1 Axes>"
      ]
     },
     "metadata": {},
     "output_type": "display_data"
    }
   ],
   "source": [
    "y = LabelEncoder().fit_transform(y)\n",
    "### transform the dataset\n",
    "oversample = SMOTE()\n",
    "x,y = oversample.fit_resample(x,y)\n",
    "### summarize distribution\n",
    "counter = Counter(y)\n",
    "for k , v in counter.items():\n",
    "    per = v/len(y)*100\n",
    "    print('class=%d, n=%d (%.3f%%)'%(k,v,per))\n",
    "## plot the distribution\n",
    "pyplot.bar(counter.keys(),counter.values())\n",
    "pyplot.show()"
   ]
  },
  {
   "cell_type": "code",
   "execution_count": 23,
   "id": "1cab8728",
   "metadata": {
    "colab": {
     "base_uri": "https://localhost:8080/",
     "height": 814
    },
    "id": "1cab8728",
    "outputId": "1aa02d09-2d0e-4050-8426-958e247ea800"
   },
   "outputs": [
    {
     "data": {
      "image/png": "[encoded data removed]",
      "text/plain": [
       "<Figure size 1440x720 with 2 Axes>"
      ]
     },
     "metadata": {},
     "output_type": "display_data"
    }
   ],
   "source": [
    "# Plotting a correlation matrix \n",
    "f = plt.figure(figsize=(20, 10))\n",
    "cmap = sns.diverging_palette(230, 20, as_cmap=True)\n",
    "sns.heatmap(data.corr(),annot=False, cmap=cmap,vmax=.3, center=0,\n",
    "            square=True, linewidths=.5, cbar_kws={\"shrink\": .5})\n",
    "plt.savefig(\"Correlation.png\") # save as png"
   ]
  },
  {
   "cell_type": "code",
   "execution_count": 24,
   "id": "b64b7ed9",
   "metadata": {
    "colab": {
     "base_uri": "https://localhost:8080/",
     "height": 296
    },
    "id": "b64b7ed9",
    "outputId": "c4aa8398-8c35-44e1-9915-8cd4f5e6a794"
   },
   "outputs": [
    {
     "data": {
      "text/plain": [
       "<matplotlib.axes._subplots.AxesSubplot at 0x7fcaa2969c10>"
      ]
     },
     "execution_count": 24,
     "metadata": {},
     "output_type": "execute_result"
    },
    {
     "data": {
      "image/png": "[encoded data removed]",
      "text/plain": [
       "<Figure size 432x288 with 1 Axes>"
      ]
     },
     "metadata": {},
     "output_type": "display_data"
    }
   ],
   "source": [
    "sns.histplot(x='Unemployment rate',data=data,hue='Target')"
   ]
  },
  {
   "cell_type": "markdown",
   "id": "8a0f01f9",
   "metadata": {
    "id": "8a0f01f9"
   },
   "source": []
  },
  {
   "cell_type": "code",
   "execution_count": 7,
   "id": "9395dcfa",
   "metadata": {
    "id": "9395dcfa"
   },
   "outputs": [],
   "source": [
    "from sklearn.model_selection import StratifiedKFold\n",
    "from sklearn.model_selection import cross_val_predict"
   ]
  },
  {
   "cell_type": "code",
   "execution_count": 8,
   "id": "737e9117",
   "metadata": {
    "id": "737e9117"
   },
   "outputs": [],
   "source": [
    "cv = StratifiedKFold(n_splits=10, shuffle=False)"
   ]
  },
  {
   "cell_type": "code",
   "execution_count": 27,
   "id": "b2e1e7d0",
   "metadata": {
    "id": "b2e1e7d0"
   },
   "outputs": [],
   "source": [
    "from sklearn import model_selection\n",
    "# random forest model creation\n",
    "rfc = RandomForestClassifier()\n",
    "rfc.fit(X_train,y_train)\n",
    "# predictions\n",
    "rfc_predict = rfc.predict(X_test)"
   ]
  },
  {
   "cell_type": "code",
   "execution_count": 28,
   "id": "c345bd84",
   "metadata": {
    "id": "c345bd84"
   },
   "outputs": [],
   "source": [
    "from sklearn.model_selection import cross_val_score\n",
    "from sklearn.metrics import classification_report, confusion_matrix\n",
    "import warnings\n",
    "warnings.filterwarnings(\"ignore\")\n"
   ]
  },
  {
   "cell_type": "code",
   "execution_count": 29,
   "id": "2eb3ee62",
   "metadata": {
    "id": "2eb3ee62"
   },
   "outputs": [],
   "source": [
    "rfc_cv_score = cross_val_score(rfc, x, y, cv=5, scoring='roc_auc')"
   ]
  },
  {
   "cell_type": "code",
   "execution_count": 30,
   "id": "dd836fe1",
   "metadata": {
    "id": "dd836fe1"
   },
   "outputs": [],
   "source": [
    "y_pred = cross_val_predict(rfc,X_test,y_test,cv=cv)"
   ]
  },
  {
   "cell_type": "code",
   "execution_count": 31,
   "id": "833a3502",
   "metadata": {
    "colab": {
     "base_uri": "https://localhost:8080/"
    },
    "id": "833a3502",
    "outputId": "b4f272b9-7f3d-40d3-a6b0-8b85b643d0fb"
   },
   "outputs": [
    {
     "name": "stdout",
     "output_type": "stream",
     "text": [
      "Accuracy: 0.7513562386980108\n"
     ]
    }
   ],
   "source": [
    "print(\"Accuracy:\",metrics.accuracy_score(y_test,y_pred))"
   ]
  },
  {
   "cell_type": "code",
   "execution_count": 32,
   "id": "9edbe769",
   "metadata": {
    "colab": {
     "base_uri": "https://localhost:8080/"
    },
    "id": "9edbe769",
    "outputId": "c6312f6e-cedb-4ab3-8f2d-a053447dbe4f"
   },
   "outputs": [
    {
     "name": "stdout",
     "output_type": "stream",
     "text": [
      " Confusion Matrix \n",
      "[[294  38  49]\n",
      " [ 34  71  84]\n",
      " [  8  20 508]]\n",
      "\n",
      "\n"
     ]
    }
   ],
   "source": [
    "print(\" Confusion Matrix \")\n",
    "print(confusion_matrix(y_test, rfc_predict))\n",
    "print('\\n')\n"
   ]
  },
  {
   "cell_type": "code",
   "execution_count": 33,
   "id": "ee643c0d",
   "metadata": {
    "colab": {
     "base_uri": "https://localhost:8080/",
     "height": 890
    },
    "id": "ee643c0d",
    "outputId": "e3676cd8-a967-4523-fe3d-e3280d2cb82e"
   },
   "outputs": [
    {
     "name": "stdout",
     "output_type": "stream",
     "text": [
      "Feature: 0, Score: 0.00389\n",
      "Feature: 1, Score: 0.02170\n",
      "Feature: 2, Score: 0.01495\n",
      "Feature: 3, Score: 0.03364\n",
      "Feature: 4, Score: 0.00300\n",
      "Feature: 5, Score: 0.00621\n",
      "Feature: 6, Score: 0.03690\n",
      "Feature: 7, Score: 0.00249\n",
      "Feature: 8, Score: 0.02126\n",
      "Feature: 9, Score: 0.02071\n",
      "Feature: 10, Score: 0.02758\n",
      "Feature: 11, Score: 0.02853\n",
      "Feature: 12, Score: 0.04271\n",
      "Feature: 13, Score: 0.00734\n",
      "Feature: 14, Score: 0.00136\n",
      "Feature: 15, Score: 0.01346\n",
      "Feature: 16, Score: 0.03848\n",
      "Feature: 17, Score: 0.00981\n",
      "Feature: 18, Score: 0.01525\n",
      "Feature: 19, Score: 0.04165\n",
      "Feature: 20, Score: 0.00147\n",
      "Feature: 21, Score: 0.00697\n",
      "Feature: 22, Score: 0.02083\n",
      "Feature: 23, Score: 0.03504\n",
      "Feature: 24, Score: 0.09206\n",
      "Feature: 25, Score: 0.07113\n",
      "Feature: 26, Score: 0.00438\n",
      "Feature: 27, Score: 0.00582\n",
      "Feature: 28, Score: 0.02242\n",
      "Feature: 29, Score: 0.04080\n",
      "Feature: 30, Score: 0.13897\n",
      "Feature: 31, Score: 0.09614\n",
      "Feature: 32, Score: 0.00526\n",
      "Feature: 33, Score: 0.02263\n",
      "Feature: 34, Score: 0.02131\n",
      "Feature: 35, Score: 0.02386\n"
     ]
    },
    {
     "data": {
      "image/png": "[encoded data removed]",
      "text/plain": [
       "<Figure size 432x288 with 1 Axes>"
      ]
     },
     "metadata": {},
     "output_type": "display_data"
    }
   ],
   "source": [
    "model = RandomForestClassifier()\n",
    "model.fit(X_train, y_train)\n",
    "# get importance\n",
    "importance = model.feature_importances_\n",
    "# summarize feature importance\n",
    "for i,v in enumerate(importance):\n",
    "    print('Feature: %0d, Score: %.5f' % (i,v))\n",
    "# plot feature importance\n",
    "plt.bar([x for x in range(len(importance))], importance)\n",
    "plt.show()"
   ]
  },
  {
   "cell_type": "code",
   "execution_count": 33,
   "id": "1ce21f3c",
   "metadata": {
    "id": "1ce21f3c"
   },
   "outputs": [],
   "source": []
  },
  {
   "cell_type": "code",
   "execution_count": 34,
   "id": "083747a1",
   "metadata": {
    "id": "083747a1"
   },
   "outputs": [],
   "source": [
    "cv = KFold(n_splits=10, random_state=42, shuffle=True)"
   ]
  },
  {
   "cell_type": "markdown",
   "id": "4584615a",
   "metadata": {
    "id": "4584615a"
   },
   "source": [
    "# hyperparameter tuning of random forest method"
   ]
  },
  {
   "cell_type": "code",
   "execution_count": 34,
   "id": "1295b0b0",
   "metadata": {
    "id": "1295b0b0"
   },
   "outputs": [],
   "source": []
  },
  {
   "cell_type": "code",
   "execution_count": 35,
   "id": "4a1db3b8",
   "metadata": {
    "id": "4a1db3b8"
   },
   "outputs": [],
   "source": [
    "#Create the parameter grid based on the results of random search \n",
    "param_grid = { \n",
    "    'n_estimators': [100,200, 500],\n",
    "    'max_features': ['auto', 'sqrt', 'log2'],\n",
    "    'max_depth': np.arange(2,30)\n",
    "    \n",
    "}\n"
   ]
  },
  {
   "cell_type": "code",
   "execution_count": 37,
   "id": "cfc433df",
   "metadata": {
    "colab": {
     "base_uri": "https://localhost:8080/"
    },
    "id": "cfc433df",
    "outputId": "5185a11e-3f9b-4072-cdcf-eec8346df8ff"
   },
   "outputs": [
    {
     "metadata": {
      "tags": null
     },
     "name": "stdout",
     "output_type": "stream",
     "text": [
      "Fitting 10 folds for each of 252 candidates, totalling 2520 fits\n"
     ]
    },
    {
     "data": {
      "text/plain": [
       "GridSearchCV(cv=KFold(n_splits=10, random_state=42, shuffle=True),\n",
       "             estimator=RandomForestClassifier(), n_jobs=1,\n",
       "             param_grid={'max_depth': array([ 2,  3,  4,  5,  6,  7,  8,  9, 10, 11, 12, 13, 14, 15, 16, 17, 18,\n",
       "       19, 20, 21, 22, 23, 24, 25, 26, 27, 28, 29]),\n",
       "                         'max_features': ['auto', 'sqrt', 'log2'],\n",
       "                         'n_estimators': [100, 200, 500]},\n",
       "             scoring='accuracy', verbose=1)"
      ]
     },
     "execution_count": 37,
     "metadata": {},
     "output_type": "execute_result"
    }
   ],
   "source": [
    "# Instantiate the grid search model\n",
    "grid_search_rd = GridSearchCV(estimator=RandomForestClassifier(), \n",
    "                           param_grid=param_grid, \n",
    "                           cv=cv, n_jobs=1, verbose=1, scoring = \"accuracy\")\n",
    "grid_search_rd.fit(X_train,y_train)\n"
   ]
  },
  {
   "cell_type": "code",
   "execution_count": 38,
   "id": "dd8dc6d2",
   "metadata": {
    "colab": {
     "base_uri": "https://localhost:8080/"
    },
    "id": "dd8dc6d2",
    "outputId": "e90cb360-2caf-4c11-d8ca-37e7aa2f4003"
   },
   "outputs": [
    {
     "name": "stdout",
     "output_type": "stream",
     "text": [
      "The best parameters are :  RandomForestClassifier(max_depth=22, max_features='log2', n_estimators=200)\n",
      "Cross-validated best score of Random Forest Model 77.697%\n"
     ]
    }
   ],
   "source": [
    "print(\"The best parameters are : \", grid_search_rd.best_estimator_)\n",
    "print(\"Cross-validated best score of Random Forest Model {}%\".format(round(grid_search_rd.best_score_ * 100,3)))"
   ]
  },
  {
   "cell_type": "code",
   "execution_count": 39,
   "id": "526942ad",
   "metadata": {
    "colab": {
     "base_uri": "https://localhost:8080/"
    },
    "id": "526942ad",
    "outputId": "307d12a2-27cc-4c4f-bf77-8904df60b930"
   },
   "outputs": [
    {
     "data": {
      "text/plain": [
       "RandomForestClassifier(max_depth=22, max_features='log2', n_estimators=200)"
      ]
     },
     "execution_count": 39,
     "metadata": {},
     "output_type": "execute_result"
    }
   ],
   "source": [
    "#Create a Gaussian Classifier with the tuned parameters\n",
    "clf_rd=RandomForestClassifier(max_depth=22, max_features='log2', n_estimators=200)\n",
    "clf_rd.fit(X_train,y_train)"
   ]
  },
  {
   "cell_type": "code",
   "execution_count": 40,
   "id": "837694c6",
   "metadata": {
    "id": "837694c6"
   },
   "outputs": [],
   "source": [
    "#Predict the response for test dataset created from the data\n",
    "y_pred_rf = clf_rd.predict(X_test)"
   ]
  },
  {
   "cell_type": "code",
   "execution_count": 41,
   "id": "8067b09d",
   "metadata": {
    "colab": {
     "base_uri": "https://localhost:8080/"
    },
    "id": "8067b09d",
    "outputId": "02a9d4aa-6441-48a7-d642-7244979ea1cc"
   },
   "outputs": [
    {
     "name": "stdout",
     "output_type": "stream",
     "text": [
      "Accuracy of the Random Forest Model on a test data: 0.7848101265822784\n",
      "Confusion Matrix  [[288  42  51]\n",
      " [ 25  75  89]\n",
      " [  8  23 505]]\n",
      "              precision    recall  f1-score   support\n",
      "\n",
      "     Dropout       0.90      0.76      0.82       381\n",
      "    Enrolled       0.54      0.40      0.46       189\n",
      "    Graduate       0.78      0.94      0.86       536\n",
      "\n",
      "    accuracy                           0.78      1106\n",
      "   macro avg       0.74      0.70      0.71      1106\n",
      "weighted avg       0.78      0.78      0.78      1106\n",
      "\n"
     ]
    }
   ],
   "source": [
    "print(\"Accuracy of the Random Forest Model on a test data:\",metrics.accuracy_score(y_test, y_pred_rf))\n",
    "# Create the Confusion Matrix to understand Sensitivity,Specificity,Accuracy\n",
    "print('Confusion Matrix ' , confusion_matrix(y_test, y_pred_rf))\n",
    "print(classification_report(y_test, y_pred_rf))\n"
   ]
  },
  {
   "cell_type": "code",
   "execution_count": null,
   "id": "0f66bfe5",
   "metadata": {
    "id": "0f66bfe5"
   },
   "outputs": [],
   "source": []
  },
  {
   "cell_type": "code",
   "execution_count": 42,
   "id": "764afe1e",
   "metadata": {
    "colab": {
     "base_uri": "https://localhost:8080/"
    },
    "id": "764afe1e",
    "outputId": "0f8f8283-fc4e-4df7-9c42-4659e08b50b5"
   },
   "outputs": [
    {
     "name": "stdout",
     "output_type": "stream",
     "text": [
      "Accuracy from each of 5 folds:  [0.76204819 0.77409639 0.76807229 0.74698795 0.75903614 0.79819277\n",
      " 0.77409639 0.80421687 0.76132931 0.78851964]\n",
      "Accuracy of Random Forest Model using k fold cross validation is : 77.366 (1.732)\n"
     ]
    }
   ],
   "source": [
    "# Evaluate the Random Forest Model using K-fold cross validation \n",
    "rd_scores = cross_val_score(clf_rd, X_train,y_train, cv=cv,scoring='accuracy',n_jobs=1)\n",
    "# report performance\n",
    "print(\"Accuracy from each of 10 folds: \",rd_scores )\n",
    "print('Accuracy of Random Forest Model using k fold cross validation is : %.3f (%.3f)' % (np.mean(rd_scores*100), np.std(rd_scores*100)))\n"
   ]
  },
  {
   "cell_type": "code",
   "execution_count": null,
   "id": "9e16cdc1",
   "metadata": {
    "id": "9e16cdc1"
   },
   "outputs": [],
   "source": [
    "### Random forest with change in parameter"
   ]
  },
  {
   "cell_type": "code",
   "execution_count": 43,
   "id": "1b2b98c2",
   "metadata": {
    "id": "1b2b98c2"
   },
   "outputs": [],
   "source": [
    "#Create the parameter grid based on the results of random search \n",
    "param_grid = { \n",
    "    'n_estimators': [25,50,100,500],\n",
    "    'max_samples': [250],\n",
    "    'criterion': ['gini','entrophy'],\n",
    "    'random_state': [42]\n",
    "\n",
    "}\n"
   ]
  },
  {
   "cell_type": "code",
   "execution_count": 44,
   "id": "50ff6362",
   "metadata": {
    "colab": {
     "base_uri": "https://localhost:8080/"
    },
    "id": "50ff6362",
    "outputId": "98a6302d-f020-4dcd-d3c5-c7581905fdfe"
   },
   "outputs": [
    {
     "name": "stdout",
     "output_type": "stream",
     "text": [
      "Fitting 10 folds for each of 8 candidates, totalling 80 fits\n"
     ]
    },
    {
     "data": {
      "text/plain": [
       "GridSearchCV(cv=KFold(n_splits=10, random_state=42, shuffle=True),\n",
       "             estimator=RandomForestClassifier(), n_jobs=1,\n",
       "             param_grid={'criterion': ['gini', 'entrophy'],\n",
       "                         'max_samples': [250],\n",
       "                         'n_estimators': [25, 50, 100, 500],\n",
       "                         'random_state': [42]},\n",
       "             scoring='accuracy', verbose=1)"
      ]
     },
     "execution_count": 44,
     "metadata": {},
     "output_type": "execute_result"
    }
   ],
   "source": [
    "# Instantiate the grid search model\n",
    "grid_search_rd = GridSearchCV(estimator=RandomForestClassifier(), \n",
    "                           param_grid=param_grid, \n",
    "                           cv=cv, n_jobs=1, verbose=1, scoring = \"accuracy\")\n",
    "grid_search_rd.fit(X_train,y_train)\n"
   ]
  },
  {
   "cell_type": "code",
   "execution_count": null,
   "id": "hihNGrIhdJ-E",
   "metadata": {
    "id": "hihNGrIhdJ-E"
   },
   "outputs": [],
   "source": []
  },
  {
   "cell_type": "code",
   "execution_count": 45,
   "id": "079f41c2",
   "metadata": {
    "colab": {
     "base_uri": "https://localhost:8080/"
    },
    "id": "079f41c2",
    "outputId": "a0035aa8-b0b4-41e2-d7ed-0abdb10f0e4e"
   },
   "outputs": [
    {
     "name": "stdout",
     "output_type": "stream",
     "text": [
      "The best parameters are :  RandomForestClassifier(max_samples=250, n_estimators=500, random_state=42)\n",
      "Cross-validated best score of Random Forest Model 75.738%\n"
     ]
    }
   ],
   "source": [
    "print(\"The best parameters are : \", grid_search_rd.best_estimator_)\n",
    "print(\"Cross-validated best score of Random Forest Model {}%\".format(round(grid_search_rd.best_score_ * 100,3)))"
   ]
  },
  {
   "cell_type": "code",
   "execution_count": 46,
   "id": "7dcaf2f3",
   "metadata": {
    "colab": {
     "base_uri": "https://localhost:8080/"
    },
    "id": "7dcaf2f3",
    "outputId": "20a8a6e5-e65f-45e5-c9e6-6d5e18298842"
   },
   "outputs": [
    {
     "data": {
      "text/plain": [
       "RandomForestClassifier(max_samples=250, n_estimators=500, random_state=42)"
      ]
     },
     "execution_count": 46,
     "metadata": {},
     "output_type": "execute_result"
    }
   ],
   "source": [
    "#Create a Gaussian Classifier with the tuned parameters\n",
    "clf_rd=RandomForestClassifier(max_samples=250, n_estimators=500,random_state=42)\n",
    "clf_rd.fit(X_train,y_train)"
   ]
  },
  {
   "cell_type": "code",
   "execution_count": 47,
   "id": "3ca9c3cc",
   "metadata": {
    "id": "3ca9c3cc"
   },
   "outputs": [],
   "source": [
    "#Predict the response for test dataset created from the data\n",
    "y_pred_rf = clf_rd.predict(X_test)"
   ]
  },
  {
   "cell_type": "code",
   "execution_count": 48,
   "id": "37ae4c2f",
   "metadata": {
    "colab": {
     "base_uri": "https://localhost:8080/"
    },
    "id": "37ae4c2f",
    "outputId": "d1fce860-abe8-419c-d2ee-81ff7fc12bcd"
   },
   "outputs": [
    {
     "name": "stdout",
     "output_type": "stream",
     "text": [
      "Accuracy of the Random Forest Model on a test data: 0.7757685352622061\n",
      "Confusion Matrix  [[296  26  59]\n",
      " [ 36  46 107]\n",
      " [  7  13 516]]\n",
      "              precision    recall  f1-score   support\n",
      "\n",
      "     Dropout       0.87      0.78      0.82       381\n",
      "    Enrolled       0.54      0.24      0.34       189\n",
      "    Graduate       0.76      0.96      0.85       536\n",
      "\n",
      "    accuracy                           0.78      1106\n",
      "   macro avg       0.72      0.66      0.67      1106\n",
      "weighted avg       0.76      0.78      0.75      1106\n",
      "\n"
     ]
    }
   ],
   "source": [
    "print(\"Accuracy of the Random Forest Model on a test data:\",metrics.accuracy_score(y_test, y_pred_rf))\n",
    "# Create the Confusion Matrix to understand Sensitivity,Specificity,Accuracy\n",
    "print('Confusion Matrix ' , confusion_matrix(y_test, y_pred_rf))\n",
    "print(classification_report(y_test, y_pred_rf))\n"
   ]
  },
  {
   "cell_type": "code",
   "execution_count": 49,
   "id": "1d28d580",
   "metadata": {
    "colab": {
     "base_uri": "https://localhost:8080/"
    },
    "id": "1d28d580",
    "outputId": "b414db29-4e98-4b60-8a5b-e7f99f6ed9e3"
   },
   "outputs": [
    {
     "name": "stdout",
     "output_type": "stream",
     "text": [
      "Accuracy from each of 5 folds:  [0.75       0.75903614 0.75       0.73493976 0.75903614 0.76807229\n",
      " 0.76807229 0.78614458 0.76132931 0.73716012]\n",
      "Accuracy of Random Forest Model using k fold cross validation is : 75.738 (1.449)\n"
     ]
    }
   ],
   "source": [
    "# Evaluate the Random Forest Model using K-fold cross validation \n",
    "rd_scores = cross_val_score(clf_rd, X_train,y_train, cv=cv,scoring='accuracy',n_jobs=1)\n",
    "# report performance\n",
    "print(\"Accuracy from each of 10 folds: \",rd_scores )\n",
    "print('Accuracy of Random Forest Model using k fold cross validation is : %.3f (%.3f)' % (np.mean(rd_scores*100), np.std(rd_scores*100)))"
   ]
  },
  {
   "cell_type": "code",
   "execution_count": null,
   "id": "d0698306",
   "metadata": {
    "id": "d0698306"
   },
   "outputs": [],
   "source": []
  },
  {
   "cell_type": "code",
   "execution_count": null,
   "id": "a3baee83",
   "metadata": {
    "id": "a3baee83"
   },
   "outputs": [],
   "source": [
    "### Random forest with change in parameter"
   ]
  },
  {
   "cell_type": "code",
   "execution_count": 58,
   "id": "0f57d356",
   "metadata": {
    "id": "0f57d356"
   },
   "outputs": [],
   "source": [
    "#Create the parameter grid based on the results of random search \n",
    "param_grid = { \n",
    "    'n_estimators': [5,10,15,45,60],\n",
    "    'max_depth': [3,5,7,9],\n",
    "    'criterion': ['gini','entrophy'],\n",
    "    'min_samples_leaf':[2,4,6],\n",
    "    'min_samples_split':[5,7,9]\n",
    "}\n"
   ]
  },
  {
   "cell_type": "code",
   "execution_count": 59,
   "id": "ddd3880a",
   "metadata": {
    "colab": {
     "base_uri": "https://localhost:8080/"
    },
    "id": "ddd3880a",
    "outputId": "38357ed8-1bb3-4e76-a1d3-d8c0429fe653"
   },
   "outputs": [
    {
     "name": "stdout",
     "output_type": "stream",
     "text": [
      "Fitting 10 folds for each of 360 candidates, totalling 3600 fits\n"
     ]
    },
    {
     "data": {
      "text/plain": [
       "GridSearchCV(cv=StratifiedKFold(n_splits=10, random_state=None, shuffle=False),\n",
       "             estimator=RandomForestClassifier(), n_jobs=1,\n",
       "             param_grid={'criterion': ['gini', 'entrophy'],\n",
       "                         'max_depth': [3, 5, 7, 9],\n",
       "                         'min_samples_leaf': [2, 4, 6],\n",
       "                         'min_samples_split': [5, 7, 9],\n",
       "                         'n_estimators': [5, 10, 15, 45, 60]},\n",
       "             scoring='accuracy', verbose=1)"
      ]
     },
     "execution_count": 59,
     "metadata": {},
     "output_type": "execute_result"
    }
   ],
   "source": [
    "# Instantiate the grid search model\n",
    "grid_search_rd = GridSearchCV(estimator=RandomForestClassifier(), \n",
    "                           param_grid=param_grid, \n",
    "                           cv=cv, n_jobs=1, verbose=1, scoring = \"accuracy\")\n",
    "grid_search_rd.fit(X_train,y_train)\n"
   ]
  },
  {
   "cell_type": "code",
   "execution_count": 60,
   "id": "edd2a0e4",
   "metadata": {
    "colab": {
     "base_uri": "https://localhost:8080/"
    },
    "id": "edd2a0e4",
    "outputId": "b47586c4-ea28-4f64-be91-2c98d2f4d34b"
   },
   "outputs": [
    {
     "name": "stdout",
     "output_type": "stream",
     "text": [
      "The best parameters are :  RandomForestClassifier(max_depth=9, min_samples_leaf=2, min_samples_split=7,\n",
      "                       n_estimators=60)\n",
      "Cross-validated best score of Random Forest Model 76.855%\n"
     ]
    }
   ],
   "source": [
    "print(\"The best parameters are : \", grid_search_rd.best_estimator_)\n",
    "print(\"Cross-validated best score of Random Forest Model {}%\".format(round(grid_search_rd.best_score_ * 100,3)))"
   ]
  },
  {
   "cell_type": "code",
   "execution_count": 61,
   "id": "819cd060",
   "metadata": {
    "colab": {
     "base_uri": "https://localhost:8080/"
    },
    "id": "819cd060",
    "outputId": "63b6923a-2a61-40dc-d538-2b07702cce0b"
   },
   "outputs": [
    {
     "data": {
      "text/plain": [
       "RandomForestClassifier(max_depth=9, min_samples_leaf=2, min_samples_split=7,\n",
       "                       n_estimators=60)"
      ]
     },
     "execution_count": 61,
     "metadata": {},
     "output_type": "execute_result"
    }
   ],
   "source": [
    "#Create a Gaussian Classifier with the tuned parameters\n",
    "clf_rd=RandomForestClassifier(max_depth=9, min_samples_leaf=2, min_samples_split=7,\n",
    "                       n_estimators=60)\n",
    "clf_rd.fit(X_train,y_train)"
   ]
  },
  {
   "cell_type": "code",
   "execution_count": 62,
   "id": "adfff52f",
   "metadata": {
    "id": "adfff52f"
   },
   "outputs": [],
   "source": [
    "#Predict the response for test dataset created from the data\n",
    "y_pred_rf = clf_rd.predict(X_test)"
   ]
  },
  {
   "cell_type": "code",
   "execution_count": 63,
   "id": "c44b0e26",
   "metadata": {
    "colab": {
     "base_uri": "https://localhost:8080/"
    },
    "id": "c44b0e26",
    "outputId": "405a39e0-171d-43cb-ba10-84556c94c6ec"
   },
   "outputs": [
    {
     "name": "stdout",
     "output_type": "stream",
     "text": [
      "Accuracy of the Random Forest Model on a test data: 0.7784810126582279\n",
      "Confusion Matrix  [[284  37  60]\n",
      " [ 22  65 102]\n",
      " [  8  16 512]]\n",
      "              precision    recall  f1-score   support\n",
      "\n",
      "     Dropout       0.90      0.75      0.82       381\n",
      "    Enrolled       0.55      0.34      0.42       189\n",
      "    Graduate       0.76      0.96      0.85       536\n",
      "\n",
      "    accuracy                           0.78      1106\n",
      "   macro avg       0.74      0.68      0.70      1106\n",
      "weighted avg       0.77      0.78      0.76      1106\n",
      "\n"
     ]
    }
   ],
   "source": [
    "print(\"Accuracy of the Random Forest Model on a test data:\",metrics.accuracy_score(y_test, y_pred_rf))\n",
    "# Create the Confusion Matrix to understand Sensitivity,Specificity,Accuracy\n",
    "print('Confusion Matrix ' , confusion_matrix(y_test, y_pred_rf))\n",
    "print(classification_report(y_test, y_pred_rf))\n"
   ]
  },
  {
   "cell_type": "code",
   "execution_count": 64,
   "id": "9e42bf43",
   "metadata": {
    "colab": {
     "base_uri": "https://localhost:8080/"
    },
    "id": "9e42bf43",
    "outputId": "425a50a8-1783-407a-d4fa-01d856a777bf"
   },
   "outputs": [
    {
     "name": "stdout",
     "output_type": "stream",
     "text": [
      "Accuracy from each of 10 folds:  [0.76204819 0.77710843 0.75       0.78012048 0.78313253 0.76506024\n",
      " 0.7439759  0.71385542 0.80060423 0.77039275]\n",
      "Accuracy of Random Forest Model using k fold cross validation is : 76.463 (2.300)\n"
     ]
    }
   ],
   "source": [
    "# Evaluate the Random Forest Model using K-fold cross validation \n",
    "rd_scores = cross_val_score(clf_rd, X_train,y_train, cv=cv,scoring='accuracy',n_jobs=1)\n",
    "# report performance\n",
    "print(\"Accuracy from each of 10 folds: \",rd_scores )\n",
    "print('Accuracy of Random Forest Model using k fold cross validation is : %.3f (%.3f)' % (np.mean(rd_scores*100), np.std(rd_scores*100)))"
   ]
  },
  {
   "cell_type": "code",
   "execution_count": null,
   "id": "17c91079",
   "metadata": {
    "id": "17c91079"
   },
   "outputs": [],
   "source": []
  },
  {
   "cell_type": "code",
   "execution_count": 57,
   "id": "9a6959da",
   "metadata": {
    "id": "9a6959da"
   },
   "outputs": [],
   "source": [
    "#Create the parameter grid based on the results of random search \n",
    "param_grid = { \n",
    "    'n_estimators': [10,20,50,75],\n",
    "    'max_features': ['sqrt', 0.2,0.4,0.8],\n",
    "    'max_depth': [10,15,40,80],\n",
    "    'random_state' :[42]\n",
    "}\n"
   ]
  },
  {
   "cell_type": "code",
   "execution_count": 58,
   "id": "b17625a8",
   "metadata": {
    "colab": {
     "base_uri": "https://localhost:8080/"
    },
    "id": "b17625a8",
    "outputId": "e3530d3a-121d-4d94-ed77-b52c5dddcf5e"
   },
   "outputs": [
    {
     "metadata": {
      "tags": null
     },
     "name": "stdout",
     "output_type": "stream",
     "text": [
      "Fitting 10 folds for each of 64 candidates, totalling 640 fits\n"
     ]
    },
    {
     "data": {
      "text/plain": [
       "GridSearchCV(cv=10, estimator=RandomForestClassifier(), n_jobs=-1,\n",
       "             param_grid={'max_depth': [10, 15, 40, 80],\n",
       "                         'max_features': ['sqrt', 0.2, 0.4, 0.8],\n",
       "                         'n_estimators': [10, 20, 50, 75],\n",
       "                         'random_state': [42]},\n",
       "             scoring='accuracy', verbose=1)"
      ]
     },
     "execution_count": 58,
     "metadata": {},
     "output_type": "execute_result"
    }
   ],
   "source": [
    "# Instantiate the grid search model\n",
    "grid_search_rd = GridSearchCV(estimator=RandomForestClassifier(), \n",
    "                           param_grid=param_grid, \n",
    "                           cv=10, n_jobs=-1, verbose=1, scoring = \"accuracy\")\n",
    "grid_search_rd.fit(X_train,y_train)\n"
   ]
  },
  {
   "cell_type": "code",
   "execution_count": 59,
   "id": "54774dcc",
   "metadata": {
    "colab": {
     "base_uri": "https://localhost:8080/"
    },
    "id": "54774dcc",
    "outputId": "d49d8aa3-9e1d-466e-ca82-0baaa7742631"
   },
   "outputs": [
    {
     "name": "stdout",
     "output_type": "stream",
     "text": [
      "The best parameters are :  RandomForestClassifier(max_depth=15, max_features=0.4, n_estimators=75,\n",
      "                       random_state=42)\n",
      "Cross-validated best score of Random Forest Model 77.578%\n"
     ]
    }
   ],
   "source": [
    "print(\"The best parameters are : \", grid_search_rd.best_estimator_)\n",
    "print(\"Cross-validated best score of Random Forest Model {}%\".format(round(grid_search_rd.best_score_ * 100,3)))"
   ]
  },
  {
   "cell_type": "code",
   "execution_count": 61,
   "id": "7176a0a6",
   "metadata": {
    "colab": {
     "base_uri": "https://localhost:8080/"
    },
    "id": "7176a0a6",
    "outputId": "ac5489cf-9fad-440d-938f-f43c2e4edf52"
   },
   "outputs": [
    {
     "data": {
      "text/plain": [
       "RandomForestClassifier(max_depth=15, max_features=0.4, n_estimators=75,\n",
       "                       random_state=42)"
      ]
     },
     "execution_count": 61,
     "metadata": {},
     "output_type": "execute_result"
    }
   ],
   "source": [
    "#Create a Gaussian Classifier with the tuned parameters\n",
    "clf_rd=RandomForestClassifier(max_depth=15, max_features=0.4, n_estimators=75,random_state=42)\n",
    "clf_rd.fit(X_train,y_train)"
   ]
  },
  {
   "cell_type": "code",
   "execution_count": 62,
   "id": "4cc3a448",
   "metadata": {
    "id": "4cc3a448"
   },
   "outputs": [],
   "source": [
    "#Predict the response for test dataset created from the data\n",
    "y_pred_rf = clf_rd.predict(X_test)"
   ]
  },
  {
   "cell_type": "code",
   "execution_count": 63,
   "id": "0288a767",
   "metadata": {
    "colab": {
     "base_uri": "https://localhost:8080/"
    },
    "id": "0288a767",
    "outputId": "a98e1db5-ed0a-410f-f0fe-3650890133ca"
   },
   "outputs": [
    {
     "name": "stdout",
     "output_type": "stream",
     "text": [
      "Accuracy of the Random Forest Model on a test data: 0.783001808318264\n",
      "Confusion Matrix  [[285  45  51]\n",
      " [ 26  78  85]\n",
      " [ 13  20 503]]\n",
      "              precision    recall  f1-score   support\n",
      "\n",
      "     Dropout       0.88      0.75      0.81       381\n",
      "    Enrolled       0.55      0.41      0.47       189\n",
      "    Graduate       0.79      0.94      0.86       536\n",
      "\n",
      "    accuracy                           0.78      1106\n",
      "   macro avg       0.74      0.70      0.71      1106\n",
      "weighted avg       0.78      0.78      0.77      1106\n",
      "\n"
     ]
    }
   ],
   "source": [
    "print(\"Accuracy of the Random Forest Model on a test data:\",metrics.accuracy_score(y_test, y_pred_rf))\n",
    "# Create the Confusion Matrix to understand Sensitivity,Specificity,Accuracy\n",
    "print('Confusion Matrix ' , confusion_matrix(y_test, y_pred_rf))\n",
    "print(classification_report(y_test, y_pred_rf))\n"
   ]
  },
  {
   "cell_type": "code",
   "execution_count": 64,
   "id": "efe8efaf",
   "metadata": {
    "colab": {
     "base_uri": "https://localhost:8080/"
    },
    "id": "efe8efaf",
    "outputId": "7369eebf-db6b-4d03-ea27-e4c2f41f1725"
   },
   "outputs": [
    {
     "name": "stdout",
     "output_type": "stream",
     "text": [
      "Accuracy of Random Forest Model using k fold cross validation is : 0.770 (0.035)\n"
     ]
    }
   ],
   "source": [
    "# Evaluate the Random Forest Model using K-fold cross validation \n",
    "rd_scores = cross_val_score(clf_rd, X_train,y_train, cv=cv,scoring='accuracy',n_jobs=-1)\n",
    "# report performance\n",
    "print('Accuracy of Random Forest Model using k fold cross validation is : %.3f (%.3f)' % (np.mean(rd_scores), np.std(rd_scores*2)))"
   ]
  },
  {
   "cell_type": "code",
   "execution_count": 65,
   "id": "961f9e36",
   "metadata": {
    "colab": {
     "base_uri": "https://localhost:8080/",
     "height": 907
    },
    "id": "961f9e36",
    "outputId": "cc068f5a-3252-49b9-b7bc-a41776d20168"
   },
   "outputs": [
    {
     "name": "stdout",
     "output_type": "stream",
     "text": [
      "Feature: 0, Score: 0.00359\n",
      "Feature: 1, Score: 0.01749\n",
      "Feature: 2, Score: 0.01332\n",
      "Feature: 3, Score: 0.03715\n",
      "Feature: 4, Score: 0.00257\n",
      "Feature: 5, Score: 0.00541\n",
      "Feature: 6, Score: 0.03679\n",
      "Feature: 7, Score: 0.00211\n",
      "Feature: 8, Score: 0.01883\n",
      "Feature: 9, Score: 0.01817\n",
      "Feature: 10, Score: 0.02639\n",
      "Feature: 11, Score: 0.02543\n",
      "Feature: 12, Score: 0.04049\n",
      "Feature: 13, Score: 0.00656\n",
      "Feature: 14, Score: 0.00092\n",
      "Feature: 15, Score: 0.01030\n",
      "Feature: 16, Score: 0.04645\n",
      "Feature: 17, Score: 0.00764\n",
      "Feature: 18, Score: 0.01102\n",
      "Feature: 19, Score: 0.03691\n",
      "Feature: 20, Score: 0.00135\n",
      "Feature: 21, Score: 0.00645\n",
      "Feature: 22, Score: 0.01845\n",
      "Feature: 23, Score: 0.02945\n",
      "Feature: 24, Score: 0.09675\n",
      "Feature: 25, Score: 0.04903\n",
      "Feature: 26, Score: 0.00412\n",
      "Feature: 27, Score: 0.00527\n",
      "Feature: 28, Score: 0.02502\n",
      "Feature: 29, Score: 0.03424\n",
      "Feature: 30, Score: 0.19481\n",
      "Feature: 31, Score: 0.10169\n",
      "Feature: 32, Score: 0.00436\n",
      "Feature: 33, Score: 0.01972\n",
      "Feature: 34, Score: 0.01865\n",
      "Feature: 35, Score: 0.02306\n"
     ]
    },
    {
     "data": {
      "image/png": "[encoded data removed]",
      "text/plain": [
       "<Figure size 432x288 with 1 Axes>"
      ]
     },
     "metadata": {},
     "output_type": "display_data"
    },
    {
     "data": {
      "text/plain": [
       "<Figure size 1800x1440 with 0 Axes>"
      ]
     },
     "metadata": {},
     "output_type": "display_data"
    }
   ],
   "source": [
    "# Feature importance after hyper parameter tunning\n",
    "importance = clf_rd.feature_importances_\n",
    "\n",
    "# Feature importance\n",
    "for i,v in enumerate(importance):\n",
    "    print('Feature: %0d, Score: %.5f' % (i,v))\n",
    "# plot feature importance\n",
    "plt.bar([x for x in range(len(importance))], importance)\n",
    "plt.figure(figsize=(25,20))\n",
    "plt.show()"
   ]
  },
  {
   "cell_type": "code",
   "execution_count": null,
   "id": "7782cb08",
   "metadata": {
    "id": "7782cb08"
   },
   "outputs": [],
   "source": [
    "### hyperparameter with change in parameter"
   ]
  },
  {
   "cell_type": "code",
   "execution_count": null,
   "id": "a25486f1",
   "metadata": {
    "id": "a25486f1"
   },
   "outputs": [],
   "source": []
  },
  {
   "cell_type": "code",
   "execution_count": null,
   "id": "3aaa535c",
   "metadata": {
    "id": "3aaa535c"
   },
   "outputs": [],
   "source": []
  },
  {
   "cell_type": "markdown",
   "id": "8bfc0fe4",
   "metadata": {
    "id": "8bfc0fe4"
   },
   "source": [
    "## hyperparameter tuning of logistics regression"
   ]
  },
  {
   "cell_type": "code",
   "execution_count": 66,
   "id": "3c63740b",
   "metadata": {
    "id": "3c63740b"
   },
   "outputs": [],
   "source": [
    "model = LogisticRegression()"
   ]
  },
  {
   "cell_type": "code",
   "execution_count": 67,
   "id": "c1652722",
   "metadata": {
    "id": "c1652722"
   },
   "outputs": [],
   "source": [
    "# Create the parameter grid based on the results of random search \n",
    "params = {'solver': ['newton-cg', 'lbfgs', 'liblinear'],\n",
    "              'penalty' : ['l2','none', 'l1'],\n",
    "              'C' : [100, 10, 1.0],\n",
    "              'random_state': [42]\n",
    "             }"
   ]
  },
  {
   "cell_type": "code",
   "execution_count": 68,
   "id": "d3873ce6",
   "metadata": {
    "id": "d3873ce6"
   },
   "outputs": [],
   "source": [
    "# Instantiate the grid search model\n",
    "grid_search = GridSearchCV(estimator=model, \n",
    "                           param_grid=params, \n",
    "                           cv=cv, n_jobs=-1, verbose=1, scoring = \"accuracy\")"
   ]
  },
  {
   "cell_type": "code",
   "execution_count": 69,
   "id": "1cfce529",
   "metadata": {
    "colab": {
     "base_uri": "https://localhost:8080/"
    },
    "id": "1cfce529",
    "outputId": "b4f2dcd0-e0ce-4575-8f63-b17107d5d5d7"
   },
   "outputs": [
    {
     "name": "stdout",
     "output_type": "stream",
     "text": [
      "Fitting 10 folds for each of 27 candidates, totalling 270 fits\n"
     ]
    }
   ],
   "source": [
    "grid_result = grid_search.fit(X_train, y_train)"
   ]
  },
  {
   "cell_type": "code",
   "execution_count": 70,
   "id": "beb7b271",
   "metadata": {
    "colab": {
     "base_uri": "https://localhost:8080/"
    },
    "id": "beb7b271",
    "outputId": "434d0de4-f283-4f2e-cad7-161abc9c5a16"
   },
   "outputs": [
    {
     "data": {
      "text/plain": [
       "LogisticRegression(penalty='l1', random_state=42, solver='liblinear')"
      ]
     },
     "execution_count": 70,
     "metadata": {},
     "output_type": "execute_result"
    }
   ],
   "source": [
    "final_lr = grid_result.best_estimator_\n",
    "final_lr"
   ]
  },
  {
   "cell_type": "code",
   "execution_count": 71,
   "id": "c33ccc18",
   "metadata": {
    "colab": {
     "base_uri": "https://localhost:8080/"
    },
    "id": "c33ccc18",
    "outputId": "786168d6-37d9-451e-dcb4-c44e92300200"
   },
   "outputs": [
    {
     "name": "stdout",
     "output_type": "stream",
     "text": [
      "Best: 0.764314 using {'C': 1.0, 'penalty': 'l1', 'random_state': 42, 'solver': 'liblinear'}\n",
      "Cross-validated best score of 77.578%\n"
     ]
    }
   ],
   "source": [
    "### accuracy\n",
    "print(\"Best: %f using %s\" % (grid_result.best_score_, grid_result.best_params_))\n",
    "print(\"Cross-validated best score of {}%\".format(round(grid_search_rd.best_score_ * 100,3)))"
   ]
  },
  {
   "cell_type": "code",
   "execution_count": 72,
   "id": "8597facf",
   "metadata": {
    "id": "8597facf"
   },
   "outputs": [],
   "source": [
    "# create model based on the tuned hyper-parameters\n",
    "clf_lr = LogisticRegression(C= 1, penalty = 'l1', random_state = 42, solver = 'liblinear')"
   ]
  },
  {
   "cell_type": "code",
   "execution_count": 73,
   "id": "beaf8960",
   "metadata": {
    "colab": {
     "base_uri": "https://localhost:8080/"
    },
    "id": "beaf8960",
    "outputId": "095e5c1a-a094-419c-d590-c831eec336f6"
   },
   "outputs": [
    {
     "name": "stdout",
     "output_type": "stream",
     "text": [
      "Accuracy on test data : 0.7649186256781193\n"
     ]
    }
   ],
   "source": [
    "#Predict the response for test dataset created from the data\n",
    "y_pred = final_lr.predict(X_test)\n",
    "print(\"Accuracy on test data :\",metrics.accuracy_score(y_test, y_pred))### accuracy on test data set"
   ]
  },
  {
   "cell_type": "code",
   "execution_count": 74,
   "id": "2b6e0c64",
   "metadata": {
    "colab": {
     "base_uri": "https://localhost:8080/"
    },
    "id": "2b6e0c64",
    "outputId": "fb6e1559-27d6-4152-b0fa-9aee2e5f1cf9"
   },
   "outputs": [
    {
     "name": "stdout",
     "output_type": "stream",
     "text": [
      "              precision    recall  f1-score   support\n",
      "\n",
      "     Dropout       0.84      0.75      0.79       381\n",
      "    Enrolled       0.50      0.29      0.36       189\n",
      "    Graduate       0.77      0.95      0.85       536\n",
      "\n",
      "    accuracy                           0.76      1106\n",
      "   macro avg       0.70      0.66      0.67      1106\n",
      "weighted avg       0.75      0.76      0.75      1106\n",
      "\n"
     ]
    }
   ],
   "source": [
    "target_names = ['Dropout', 'Enrolled','Graduate']\n",
    "print(classification_report(y_test, y_pred, target_names=target_names))"
   ]
  },
  {
   "cell_type": "code",
   "execution_count": 75,
   "id": "04dda790",
   "metadata": {
    "colab": {
     "base_uri": "https://localhost:8080/"
    },
    "id": "04dda790",
    "outputId": "e2b5ba0a-e1fa-4fee-a9bc-641fa5e11e01"
   },
   "outputs": [
    {
     "name": "stdout",
     "output_type": "stream",
     "text": [
      "Confusion Matrix  [[285  45  51]\n",
      " [ 26  78  85]\n",
      " [ 13  20 503]]\n"
     ]
    }
   ],
   "source": [
    "## confusion matrix\n",
    "print('Confusion Matrix ' , confusion_matrix(y_test, y_pred_rf))"
   ]
  },
  {
   "cell_type": "code",
   "execution_count": 76,
   "id": "7b039312",
   "metadata": {
    "colab": {
     "base_uri": "https://localhost:8080/"
    },
    "id": "7b039312",
    "outputId": "9ff9a90d-8a32-440c-c3ad-3fede25ce3bb"
   },
   "outputs": [
    {
     "name": "stdout",
     "output_type": "stream",
     "text": [
      "Accuracy from each of 5 folds:  [0.77108434 0.75301205 0.77409639 0.74698795 0.78012048 0.79518072\n",
      " 0.78313253 0.79518072 0.74924471 0.75528701]\n",
      "Accuracy of the Logistic Regression Model using K-fold cross validation is : 76.100 (1.434)\n"
     ]
    }
   ],
   "source": [
    "# Evaluate the Logistic Regression Model using K-fold cross validation \n",
    "log_scores = cross_val_score(clf_lr, X_train,y_train, scoring='accuracy', cv=cv, n_jobs=-1)\n",
    "# report performance of LR\n",
    "print(\"Accuracy from each of 10 folds: \",rd_scores )\n",
    "print('Accuracy of the Logistic Regression Model using K-fold cross validation is : %.3f (%.3f)' % (np.mean(log_scores*100), np.std(log_scores*100)))"
   ]
  },
  {
   "cell_type": "code",
   "execution_count": null,
   "id": "09b01ce2",
   "metadata": {
    "id": "09b01ce2"
   },
   "outputs": [],
   "source": [
    "#### Doing hyperparameter tuning with change in parameter of logistics regression"
   ]
  },
  {
   "cell_type": "code",
   "execution_count": 25,
   "id": "754f7798",
   "metadata": {
    "id": "754f7798"
   },
   "outputs": [],
   "source": [
    "model = LogisticRegression()"
   ]
  },
  {
   "cell_type": "code",
   "execution_count": 26,
   "id": "56fb579a",
   "metadata": {
    "id": "56fb579a"
   },
   "outputs": [],
   "source": [
    "# Create the parameter grid based on the results of random search \n",
    "params = {'solver': ['newton-cg', 'lbfgs', 'liblinear', 'sag', 'saga'],\n",
    "              'penalty' : ['none', 'l1', 'l2', 'elasticnet'],\n",
    "              'C' : [100, 10, 1.0, 0.1, 0.01],\n",
    "              'random_state': [42]\n",
    "             }"
   ]
  },
  {
   "cell_type": "code",
   "execution_count": 27,
   "id": "2b68a2a8",
   "metadata": {
    "id": "2b68a2a8"
   },
   "outputs": [],
   "source": [
    "# Instantiate the grid search model\n",
    "grid_search = GridSearchCV(estimator=model, \n",
    "                           param_grid=params, \n",
    "                           cv=cv, n_jobs=1, verbose=1, scoring = \"accuracy\")"
   ]
  },
  {
   "cell_type": "code",
   "execution_count": 28,
   "id": "d390f8a4",
   "metadata": {
    "colab": {
     "base_uri": "https://localhost:8080/"
    },
    "id": "d390f8a4",
    "outputId": "d9e9039c-7723-4702-a17b-2014f6da9c69"
   },
   "outputs": [
    {
     "metadata": {
      "tags": null
     },
     "name": "stdout",
     "output_type": "stream",
     "text": [
      "Fitting 10 folds for each of 100 candidates, totalling 1000 fits\n"
     ]
    }
   ],
   "source": [
    "grid_result = grid_search.fit(X_train, y_train)"
   ]
  },
  {
   "cell_type": "code",
   "execution_count": 31,
   "id": "cd05653c",
   "metadata": {
    "colab": {
     "base_uri": "https://localhost:8080/"
    },
    "id": "cd05653c",
    "outputId": "ad5bb8f9-566c-4c20-ee8f-898149730cce"
   },
   "outputs": [
    {
     "data": {
      "text/plain": [
       "LogisticRegression(penalty='l1', random_state=42, solver='liblinear')"
      ]
     },
     "execution_count": 31,
     "metadata": {},
     "output_type": "execute_result"
    }
   ],
   "source": [
    "final_lr = grid_result.best_estimator_\n",
    "final_lr"
   ]
  },
  {
   "cell_type": "code",
   "execution_count": 35,
   "id": "898adfd1",
   "metadata": {
    "colab": {
     "base_uri": "https://localhost:8080/"
    },
    "id": "898adfd1",
    "outputId": "a6e41110-32d1-4401-ee5f-1dc9e8cc39ab"
   },
   "outputs": [
    {
     "name": "stdout",
     "output_type": "stream",
     "text": [
      "Best: 0.764631 using {'C': 1.0, 'penalty': 'l1', 'random_state': 42, 'solver': 'liblinear'}\n"
     ]
    }
   ],
   "source": [
    "# create model based on the tuned hyper-parameters\n",
    "### accuracy\n",
    "print(\"Best: %f using %s\" % (grid_result.best_score_, grid_result.best_params_))\n",
    "\n"
   ]
  },
  {
   "cell_type": "code",
   "execution_count": 37,
   "id": "bc74348f",
   "metadata": {
    "id": "bc74348f"
   },
   "outputs": [],
   "source": [
    "# create model based on the tuned hyper-parameters\n",
    "clf_lr = LogisticRegression(penalty = 'l1', random_state = 42, solver = 'liblinear')"
   ]
  },
  {
   "cell_type": "code",
   "execution_count": 38,
   "id": "c4c15c24",
   "metadata": {
    "colab": {
     "base_uri": "https://localhost:8080/"
    },
    "id": "c4c15c24",
    "outputId": "2cab6b43-af72-41bc-edfa-5f05a6f5320e"
   },
   "outputs": [
    {
     "name": "stdout",
     "output_type": "stream",
     "text": [
      "Best: 0.764631 using {'C': 1.0, 'penalty': 'l1', 'random_state': 42, 'solver': 'liblinear'}\n"
     ]
    }
   ],
   "source": [
    "print(\"Best: %f using %s\" % (grid_result.best_score_, grid_result.best_params_))"
   ]
  },
  {
   "cell_type": "code",
   "execution_count": 39,
   "id": "5c6cffcd",
   "metadata": {
    "colab": {
     "base_uri": "https://localhost:8080/"
    },
    "id": "5c6cffcd",
    "outputId": "61084dff-5f40-4382-d3dd-feb736168487"
   },
   "outputs": [
    {
     "name": "stdout",
     "output_type": "stream",
     "text": [
      "Accuracy on test data : 0.7649186256781193\n"
     ]
    }
   ],
   "source": [
    "y_pred = final_lr.predict(X_test)\n",
    "print(\"Accuracy on test data :\",metrics.accuracy_score(y_test, y_pred))### accuracy on test data set"
   ]
  },
  {
   "cell_type": "code",
   "execution_count": 41,
   "id": "7220192e",
   "metadata": {
    "colab": {
     "base_uri": "https://localhost:8080/"
    },
    "id": "7220192e",
    "outputId": "79575412-118c-4a0a-e8f8-108403d2e78f"
   },
   "outputs": [
    {
     "name": "stdout",
     "output_type": "stream",
     "text": [
      "              precision    recall  f1-score   support\n",
      "\n",
      "     Dropout       0.84      0.75      0.79       381\n",
      "    Enrolled       0.50      0.29      0.36       189\n",
      "    Graduate       0.77      0.95      0.85       536\n",
      "\n",
      "    accuracy                           0.76      1106\n",
      "   macro avg       0.70      0.66      0.67      1106\n",
      "weighted avg       0.75      0.76      0.75      1106\n",
      "\n"
     ]
    }
   ],
   "source": [
    "target_names = ['Dropout', 'Enrolled','Graduate']\n",
    "print(classification_report(y_test, y_pred, target_names=target_names))"
   ]
  },
  {
   "cell_type": "code",
   "execution_count": 57,
   "id": "4c31bdbb",
   "metadata": {
    "colab": {
     "base_uri": "https://localhost:8080/"
    },
    "id": "4c31bdbb",
    "outputId": "e9861ed1-606a-4260-a38c-3571e83827fa"
   },
   "outputs": [
    {
     "name": "stdout",
     "output_type": "stream",
     "text": [
      "Confusion Matrix  [[230  16 135]\n",
      " [ 32  19 138]\n",
      " [ 20  11 505]]\n"
     ]
    }
   ],
   "source": [
    "print('Confusion Matrix ' , confusion_matrix(y_test, y_pred))"
   ]
  },
  {
   "cell_type": "code",
   "execution_count": null,
   "id": "454ad591",
   "metadata": {
    "id": "454ad591"
   },
   "outputs": [],
   "source": [
    "#### Doing hyperparameter tuning of logistics regression with change with parameter"
   ]
  },
  {
   "cell_type": "code",
   "execution_count": 43,
   "id": "f84a4c60",
   "metadata": {
    "id": "f84a4c60"
   },
   "outputs": [],
   "source": [
    "model = LogisticRegression()"
   ]
  },
  {
   "cell_type": "code",
   "execution_count": 44,
   "id": "7bac46ef",
   "metadata": {
    "id": "7bac46ef"
   },
   "outputs": [],
   "source": [
    "# Create the parameter grid based on the results of random search \n",
    "params = {'solver': [ 'lbfgs', 'sag', 'saga'],\n",
    "              'penalty' : ['none' , 'l2', 'elasticnet'],\n",
    "              'C' : [20,50,75,100],\n",
    "              'random_state': [42]\n",
    "             }"
   ]
  },
  {
   "cell_type": "code",
   "execution_count": 45,
   "id": "6dfebf41",
   "metadata": {
    "id": "6dfebf41"
   },
   "outputs": [],
   "source": [
    "# Instantiate the grid search model\n",
    "grid_search = GridSearchCV(estimator=model, \n",
    "                           param_grid=params, \n",
    "                           cv=cv, n_jobs=-1, verbose=1, scoring = \"accuracy\")"
   ]
  },
  {
   "cell_type": "code",
   "execution_count": 46,
   "id": "0e0c66b9",
   "metadata": {
    "colab": {
     "base_uri": "https://localhost:8080/"
    },
    "id": "0e0c66b9",
    "outputId": "86aa4316-3dfc-43e7-a52f-d89912b124ef"
   },
   "outputs": [
    {
     "name": "stdout",
     "output_type": "stream",
     "text": [
      "Fitting 10 folds for each of 36 candidates, totalling 360 fits\n"
     ]
    }
   ],
   "source": [
    "grid_result = grid_search.fit(X_train, y_train)"
   ]
  },
  {
   "cell_type": "code",
   "execution_count": 47,
   "id": "3dd151d2",
   "metadata": {
    "colab": {
     "base_uri": "https://localhost:8080/"
    },
    "id": "3dd151d2",
    "outputId": "b1941964-c7c4-4d99-cf60-6c385f5c3c11"
   },
   "outputs": [
    {
     "data": {
      "text/plain": [
       "LogisticRegression(C=75, random_state=42)"
      ]
     },
     "execution_count": 47,
     "metadata": {},
     "output_type": "execute_result"
    }
   ],
   "source": [
    "final_lr = grid_result.best_estimator_\n",
    "final_lr"
   ]
  },
  {
   "cell_type": "code",
   "execution_count": 48,
   "id": "25648d51",
   "metadata": {
    "colab": {
     "base_uri": "https://localhost:8080/"
    },
    "id": "25648d51",
    "outputId": "18795567-da8f-44c3-8a41-d89aaad3770b"
   },
   "outputs": [
    {
     "name": "stdout",
     "output_type": "stream",
     "text": [
      "Best: 0.676326 using {'C': 75, 'penalty': 'l2', 'random_state': 42, 'solver': 'lbfgs'}\n"
     ]
    }
   ],
   "source": [
    "print(\"Best: %f using %s\" % (grid_result.best_score_, grid_result.best_params_))"
   ]
  },
  {
   "cell_type": "code",
   "execution_count": 51,
   "id": "9tYK_YiW0KEu",
   "metadata": {
    "id": "9tYK_YiW0KEu"
   },
   "outputs": [],
   "source": [
    "# create model based on the tuned hyper-parameters\n",
    "clf_lr = LogisticRegression(penalty = 'l2', random_state = 42, solver = 'lbfgs',C=75)"
   ]
  },
  {
   "cell_type": "code",
   "execution_count": 52,
   "id": "ea929146",
   "metadata": {
    "colab": {
     "base_uri": "https://localhost:8080/"
    },
    "id": "ea929146",
    "outputId": "a34bc8d2-1388-4dd3-f6a7-f41377446538"
   },
   "outputs": [
    {
     "name": "stdout",
     "output_type": "stream",
     "text": [
      "Accuracy on test data : 0.6817359855334539\n"
     ]
    }
   ],
   "source": [
    "y_pred = final_lr.predict(X_test)\n",
    "print(\"Accuracy on test data :\",metrics.accuracy_score(y_test, y_pred))### accuracy on test data set"
   ]
  },
  {
   "cell_type": "code",
   "execution_count": 53,
   "id": "c899fb70",
   "metadata": {
    "colab": {
     "base_uri": "https://localhost:8080/"
    },
    "id": "c899fb70",
    "outputId": "526cafdd-d3d0-4d60-807f-b3e53dae8fbf"
   },
   "outputs": [
    {
     "name": "stdout",
     "output_type": "stream",
     "text": [
      "              precision    recall  f1-score   support\n",
      "\n",
      "     Dropout       0.82      0.60      0.69       381\n",
      "    Enrolled       0.41      0.10      0.16       189\n",
      "    Graduate       0.65      0.94      0.77       536\n",
      "\n",
      "    accuracy                           0.68      1106\n",
      "   macro avg       0.63      0.55      0.54      1106\n",
      "weighted avg       0.67      0.68      0.64      1106\n",
      "\n"
     ]
    }
   ],
   "source": [
    "target_names = ['Dropout', 'Enrolled','Graduate']\n",
    "print(classification_report(y_test, y_pred, target_names=target_names))"
   ]
  },
  {
   "cell_type": "code",
   "execution_count": 56,
   "id": "2943e029",
   "metadata": {
    "colab": {
     "base_uri": "https://localhost:8080/"
    },
    "id": "2943e029",
    "outputId": "d000272a-4e2d-4c01-f5cc-9ebf551e1a11"
   },
   "outputs": [
    {
     "name": "stdout",
     "output_type": "stream",
     "text": [
      "Confusion Matrix  [[230  16 135]\n",
      " [ 32  19 138]\n",
      " [ 20  11 505]]\n"
     ]
    }
   ],
   "source": [
    "print('Confusion Matrix ' , confusion_matrix(y_test, y_pred))"
   ]
  },
  {
   "cell_type": "code",
   "execution_count": 55,
   "id": "qqV1D88OOa8M",
   "metadata": {
    "colab": {
     "base_uri": "https://localhost:8080/"
    },
    "id": "qqV1D88OOa8M",
    "outputId": "eb3396d3-9ac1-4165-ff37-095933c451f5"
   },
   "outputs": [
    {
     "name": "stdout",
     "output_type": "stream",
     "text": [
      "Accuracy of the Logistic Regression Model using K-fold cross validation is : 67.633 (2.275)\n"
     ]
    }
   ],
   "source": [
    "# Evaluate the Logistic Regression Model using K-fold cross validation \n",
    "log_scores = cross_val_score(clf_lr, X_train,y_train, scoring='accuracy', cv=cv, n_jobs=-1)\n",
    "# report performance of LR\n",
    "print('Accuracy of the Logistic Regression Model using K-fold cross validation is : %.3f (%.3f)' % (np.mean(log_scores*100), np.std(log_scores*100)))"
   ]
  },
  {
   "cell_type": "markdown",
   "id": "ade5558f",
   "metadata": {
    "id": "ade5558f"
   },
   "source": []
  },
  {
   "cell_type": "code",
   "execution_count": null,
   "id": "b5610f92",
   "metadata": {
    "id": "b5610f92"
   },
   "outputs": [],
   "source": [
    "##### Hyperparamter tuning with knn algorithm"
   ]
  },
  {
   "cell_type": "code",
   "execution_count": 9,
   "id": "5142b2ff",
   "metadata": {
    "id": "5142b2ff"
   },
   "outputs": [],
   "source": [
    "from sklearn.neighbors import KNeighborsClassifier"
   ]
  },
  {
   "cell_type": "code",
   "execution_count": 10,
   "id": "rL6F8_GqtP3i",
   "metadata": {
    "colab": {
     "base_uri": "https://localhost:8080/"
    },
    "id": "rL6F8_GqtP3i",
    "outputId": "4afacc04-ac19-4514-83b4-3a2be2cb763c"
   },
   "outputs": [
    {
     "data": {
      "text/plain": [
       "KNeighborsClassifier()"
      ]
     },
     "execution_count": 10,
     "metadata": {},
     "output_type": "execute_result"
    }
   ],
   "source": [
    "k_base = KNeighborsClassifier()\n",
    "\n",
    "k_base.fit(X_train, y_train)"
   ]
  },
  {
   "cell_type": "code",
   "execution_count": 11,
   "id": "P7g84NHNtQpZ",
   "metadata": {
    "id": "P7g84NHNtQpZ"
   },
   "outputs": [],
   "source": [
    "y_base_pred = k_base.predict(X_test)"
   ]
  },
  {
   "cell_type": "code",
   "execution_count": 12,
   "id": "8Ht5cymetSun",
   "metadata": {
    "colab": {
     "base_uri": "https://localhost:8080/"
    },
    "id": "8Ht5cymetSun",
    "outputId": "5cb2ceb5-2397-45a0-8a01-e7c3429edbfa"
   },
   "outputs": [
    {
     "name": "stdout",
     "output_type": "stream",
     "text": [
      "KKN accuracy for testing dataset without hyper parameter tuning is : 57.87%\n"
     ]
    }
   ],
   "source": [
    "test_accuracy_base = accuracy_score(y_test,y_base_pred)*100\n",
    "\n",
    "print(\"KKN accuracy for testing dataset without hyper parameter tuning is : {:.2f}%\".format(test_accuracy_base) )"
   ]
  },
  {
   "cell_type": "code",
   "execution_count": 13,
   "id": "Snzvvt2CtTgo",
   "metadata": {
    "colab": {
     "base_uri": "https://localhost:8080/"
    },
    "id": "Snzvvt2CtTgo",
    "outputId": "1b449666-1501-4b0c-cabe-886f25b1674a"
   },
   "outputs": [
    {
     "name": "stdout",
     "output_type": "stream",
     "text": [
      "Fitting 10 folds for each of 40 candidates, totalling 400 fits\n"
     ]
    }
   ],
   "source": [
    "knn = KNeighborsClassifier()\n",
    "cross_val = StratifiedKFold(n_splits=10)\n",
    "k_range = list(range(1, 11))\n",
    "param_grid = {'n_neighbors': k_range, \n",
    "              'weights': ['distance','uniform'],\n",
    "              'metric': ['euclidean', 'manhattan']              \n",
    "             }\n",
    "\n",
    "# defining parameter range\n",
    "grid_knn = GridSearchCV(knn, param_grid, cv=cross_val, scoring='accuracy', return_train_score=False,verbose=1)\n",
    "  \n",
    "# fitting the model for grid search\n",
    "grid_search_clf = grid_knn.fit(X_train, y_train)"
   ]
  },
  {
   "cell_type": "code",
   "execution_count": 14,
   "id": "_Rhcuwy0tURj",
   "metadata": {
    "id": "_Rhcuwy0tURj"
   },
   "outputs": [],
   "source": [
    "y_pred_knn = grid_search_clf.predict(X_test)"
   ]
  },
  {
   "cell_type": "code",
   "execution_count": 15,
   "id": "IgBampNJugCa",
   "metadata": {
    "colab": {
     "base_uri": "https://localhost:8080/"
    },
    "id": "IgBampNJugCa",
    "outputId": "2246d23f-08f9-4641-c23f-feaf4c38efca"
   },
   "outputs": [
    {
     "name": "stdout",
     "output_type": "stream",
     "text": [
      "KKN Gridsearch accuracy for testing dataset with hyper parameters : 65.01%\n"
     ]
    }
   ],
   "source": [
    "test_accuracy_grid_cv = accuracy_score(y_test,y_pred_knn)*100\n",
    "# Model Accuracy\n",
    "print(\"KKN Gridsearch accuracy for testing dataset with hyper parameters : {:.2f}%\".format(test_accuracy_grid_cv) )"
   ]
  },
  {
   "cell_type": "code",
   "execution_count": 16,
   "id": "VP5AV_sWug35",
   "metadata": {
    "colab": {
     "base_uri": "https://localhost:8080/"
    },
    "id": "VP5AV_sWug35",
    "outputId": "c4f9959c-5fa5-430a-8f45-43ac60b41066"
   },
   "outputs": [
    {
     "name": "stdout",
     "output_type": "stream",
     "text": [
      "{'metric': 'manhattan', 'n_neighbors': 10, 'weights': 'distance'}\n"
     ]
    }
   ],
   "source": [
    "print(grid_search_clf.best_params_)"
   ]
  },
  {
   "cell_type": "code",
   "execution_count": 17,
   "id": "1xjE78BruwDn",
   "metadata": {
    "colab": {
     "base_uri": "https://localhost:8080/"
    },
    "id": "1xjE78BruwDn",
    "outputId": "025c4236-ac7e-405f-f457-732de6d671ba"
   },
   "outputs": [
    {
     "data": {
      "text/plain": [
       "KNeighborsClassifier(metric='manhattan', n_neighbors=10, weights='distance')"
      ]
     },
     "execution_count": 17,
     "metadata": {},
     "output_type": "execute_result"
    }
   ],
   "source": [
    "knn_best = KNeighborsClassifier(n_neighbors=10, weights = 'distance', metric = 'manhattan')\n",
    "\n",
    "knn_best.fit(X_train, y_train)"
   ]
  },
  {
   "cell_type": "code",
   "execution_count": 18,
   "id": "qchReqQAuxCr",
   "metadata": {
    "id": "qchReqQAuxCr"
   },
   "outputs": [],
   "source": [
    "y_test_pred = knn_best.predict(X_test)"
   ]
  },
  {
   "cell_type": "code",
   "execution_count": 19,
   "id": "S_-TIjNHuhtx",
   "metadata": {
    "colab": {
     "base_uri": "https://localhost:8080/"
    },
    "id": "S_-TIjNHuhtx",
    "outputId": "c2985003-b89d-48cd-e775-9a4f602a2cfd"
   },
   "outputs": [
    {
     "name": "stdout",
     "output_type": "stream",
     "text": [
      "KKN accuracy for testing dataset with hyper parameter tuning is : 65.01%\n"
     ]
    }
   ],
   "source": [
    "test_accuracy = accuracy_score(y_test,y_test_pred)*100\n",
    "\n",
    "print(\"KKN accuracy for testing dataset with hyper parameter tuning is : {:.2f}%\".format(test_accuracy) )"
   ]
  },
  {
   "cell_type": "code",
   "execution_count": 20,
   "id": "sm9D9oOcvWW_",
   "metadata": {
    "colab": {
     "base_uri": "https://localhost:8080/"
    },
    "id": "sm9D9oOcvWW_",
    "outputId": "cef3be8e-64a8-434c-b7ee-56a0130d7128"
   },
   "outputs": [
    {
     "name": "stdout",
     "output_type": "stream",
     "text": [
      "Confusion Matrix  [[213  45 123]\n",
      " [ 26  38 125]\n",
      " [ 29  39 468]]\n",
      "              precision    recall  f1-score   support\n",
      "\n",
      "     Dropout       0.79      0.56      0.66       381\n",
      "    Enrolled       0.31      0.20      0.24       189\n",
      "    Graduate       0.65      0.87      0.75       536\n",
      "\n",
      "    accuracy                           0.65      1106\n",
      "   macro avg       0.59      0.54      0.55      1106\n",
      "weighted avg       0.64      0.65      0.63      1106\n",
      "\n"
     ]
    }
   ],
   "source": [
    "# Create the Confusion Matrix to understand Sensitivity,Specificity,Accuracy\n",
    "cm = confusion_matrix(y_test, y_pred_knn)\n",
    "print('Confusion Matrix ' , cm)\n",
    "print(classification_report(y_test, y_pred_knn))\n"
   ]
  },
  {
   "cell_type": "code",
   "execution_count": 22,
   "id": "9f9m_ODqdP-8",
   "metadata": {
    "colab": {
     "base_uri": "https://localhost:8080/"
    },
    "id": "9f9m_ODqdP-8",
    "outputId": "457ff773-688f-4175-938c-a3d826d1d081"
   },
   "outputs": [
    {
     "name": "stdout",
     "output_type": "stream",
     "text": [
      "Accuracy from each of 5 folds:  [0.6626506  0.70783133 0.65361446 0.65060241 0.68975904 0.68072289\n",
      " 0.69578313 0.64457831 0.66163142 0.6978852 ]\n",
      "Accuracy of SVM Model is : 67.451 (2.143)\n"
     ]
    }
   ],
   "source": [
    "# Evaluate the SVM Model using K-fold cross validation \n",
    "knn_scores = cross_val_score(knn_best, X_train,y_train, cv=cv,scoring='accuracy',n_jobs=1)\n",
    "# report performance\n",
    "print(\"Accuracy from each of 5 folds: \",knn_scores )\n",
    "print('Accuracy of SVM Model is : %.3f (%.3f)' % (np.mean(knn_scores)*100, np.std(knn_scores)*100))"
   ]
  }
 ],
 "metadata": {
  "accelerator": "GPU",
  "colab": {
   "name": "dsdm student dropout (3).ipynb",
   "provenance": []
  },
  "gpuClass": "standard",
  "kernelspec": {
   "display_name": "Python 3",
   "language": "python",
   "name": "python3"
  },
  "language_info": {
   "codemirror_mode": {
    "name": "ipython",
    "version": 3
   },
   "file_extension": ".py",
   "mimetype": "text/x-python",
   "name": "python",
   "nbconvert_exporter": "python",
   "pygments_lexer": "ipython3",
   "version": "3.8.8"
  }
 },
 "nbformat": 4,
 "nbformat_minor": 5
}
